{
  "nbformat": 4,
  "nbformat_minor": 0,
  "metadata": {
    "colab": {
      "provenance": [],
      "authorship_tag": "ABX9TyP4BgSwG5Uezn1jhNM7aLBn",
      "include_colab_link": true
    },
    "kernelspec": {
      "name": "python3",
      "display_name": "Python 3"
    },
    "language_info": {
      "name": "python"
    }
  },
  "cells": [
    {
      "cell_type": "markdown",
      "metadata": {
        "id": "view-in-github",
        "colab_type": "text"
      },
      "source": [
        "<a href=\"https://colab.research.google.com/github/AlinaSalaieva/NM/blob/main/%D0%9B%D0%A0_%D0%A1%D0%B0%D0%BB%D0%B0%D1%94%D0%B2%D0%B0_12%D0%92.ipynb\" target=\"_parent\"><img src=\"https://colab.research.google.com/assets/colab-badge.svg\" alt=\"Open In Colab\"/></a>"
      ]
    },
    {
      "cell_type": "code",
      "execution_count": 1,
      "metadata": {
        "colab": {
          "base_uri": "https://localhost:8080/"
        },
        "id": "__UHEG9t8nSl",
        "outputId": "a23a1a76-aaae-4958-99b7-2d91f64688c9"
      },
      "outputs": [
        {
          "output_type": "execute_result",
          "data": {
            "text/plain": [
              "<module 'numpy.version' from '/usr/local/lib/python3.12/dist-packages/numpy/version.py'>"
            ]
          },
          "metadata": {},
          "execution_count": 1
        }
      ],
      "source": [
        "import numpy as np\n",
        "numpy_version = np.version\n",
        "numpy_version"
      ]
    },
    {
      "cell_type": "markdown",
      "source": [
        "Створення матриці 3х3 і заповнення випадковими числами від 1 до 5"
      ],
      "metadata": {
        "id": "Moh-sWx387vN"
      }
    },
    {
      "cell_type": "code",
      "source": [
        "matrix = np.random.randint(1, 6, size=(3, 3))\n",
        "matrix"
      ],
      "metadata": {
        "colab": {
          "base_uri": "https://localhost:8080/"
        },
        "id": "xcrusFO285bx",
        "outputId": "ccb89137-7d8c-4028-ae28-98829257f5bd"
      },
      "execution_count": 2,
      "outputs": [
        {
          "output_type": "execute_result",
          "data": {
            "text/plain": [
              "array([[3, 5, 5],\n",
              "       [1, 3, 4],\n",
              "       [2, 1, 3]])"
            ]
          },
          "metadata": {},
          "execution_count": 2
        }
      ]
    },
    {
      "cell_type": "markdown",
      "source": [
        "Обчислити визначник матриці"
      ],
      "metadata": {
        "id": "LJqnKQRB9F_v"
      }
    },
    {
      "cell_type": "code",
      "source": [
        "det = np.linalg.det(matrix)\n",
        "det"
      ],
      "metadata": {
        "colab": {
          "base_uri": "https://localhost:8080/"
        },
        "id": "2uAh09HQ9H_-",
        "outputId": "6b7cb328-d4ac-4e5c-ac77-9cfb6d1e2dd7"
      },
      "execution_count": 3,
      "outputs": [
        {
          "output_type": "execute_result",
          "data": {
            "text/plain": [
              "np.float64(15.0)"
            ]
          },
          "metadata": {},
          "execution_count": 3
        }
      ]
    },
    {
      "cell_type": "markdown",
      "source": [
        "Знайти добуток елементів"
      ],
      "metadata": {
        "id": "lhUoIi5T9LKn"
      }
    },
    {
      "cell_type": "code",
      "source": [
        "product = np.prod(matrix)\n",
        "product"
      ],
      "metadata": {
        "colab": {
          "base_uri": "https://localhost:8080/"
        },
        "id": "LXFU8dn89NHd",
        "outputId": "c66d783a-5e1c-4362-a8b0-99eb3b501656"
      },
      "execution_count": 4,
      "outputs": [
        {
          "output_type": "execute_result",
          "data": {
            "text/plain": [
              "np.int64(5400)"
            ]
          },
          "metadata": {},
          "execution_count": 4
        }
      ]
    },
    {
      "cell_type": "code",
      "source": [
        "prod_1 = np.prod(matrix[0])\n",
        "prod_2 = np.prod(matrix[1])\n",
        "prod_3 = np.prod(matrix[2])\n",
        "prod_1*prod_2*prod_3"
      ],
      "metadata": {
        "colab": {
          "base_uri": "https://localhost:8080/"
        },
        "id": "ZZg1ZrE29PIj",
        "outputId": "03359471-7d45-4a07-ed13-b9572a7dce43"
      },
      "execution_count": 5,
      "outputs": [
        {
          "output_type": "execute_result",
          "data": {
            "text/plain": [
              "np.int64(5400)"
            ]
          },
          "metadata": {},
          "execution_count": 5
        }
      ]
    },
    {
      "cell_type": "markdown",
      "source": [
        "Знайти суму елементів"
      ],
      "metadata": {
        "id": "xw39C6G-9RUs"
      }
    },
    {
      "cell_type": "code",
      "source": [
        "np.sum(matrix)"
      ],
      "metadata": {
        "colab": {
          "base_uri": "https://localhost:8080/"
        },
        "id": "eOUVhhoO9StS",
        "outputId": "d6403e87-b629-457f-be3e-ba8a3ee573c5"
      },
      "execution_count": 6,
      "outputs": [
        {
          "output_type": "execute_result",
          "data": {
            "text/plain": [
              "np.int64(27)"
            ]
          },
          "metadata": {},
          "execution_count": 6
        }
      ]
    },
    {
      "cell_type": "markdown",
      "source": [
        "Знайти максимум"
      ],
      "metadata": {
        "id": "2bDf8EvI9Xuk"
      }
    },
    {
      "cell_type": "code",
      "source": [
        "np.max(matrix)"
      ],
      "metadata": {
        "colab": {
          "base_uri": "https://localhost:8080/"
        },
        "id": "vr8vHVIr9Y9G",
        "outputId": "16508e6a-110d-4cf4-8e30-872961d10bfe"
      },
      "execution_count": 7,
      "outputs": [
        {
          "output_type": "execute_result",
          "data": {
            "text/plain": [
              "np.int64(5)"
            ]
          },
          "metadata": {},
          "execution_count": 7
        }
      ]
    },
    {
      "cell_type": "markdown",
      "source": [
        "Знайти мінімум"
      ],
      "metadata": {
        "id": "vr6xpMdB9bDQ"
      }
    },
    {
      "cell_type": "code",
      "source": [
        "np.min(matrix)"
      ],
      "metadata": {
        "colab": {
          "base_uri": "https://localhost:8080/"
        },
        "id": "63MMdMS69dov",
        "outputId": "4b891eac-2878-4b44-b26e-ee01e38a9fb0"
      },
      "execution_count": 8,
      "outputs": [
        {
          "output_type": "execute_result",
          "data": {
            "text/plain": [
              "np.int64(1)"
            ]
          },
          "metadata": {},
          "execution_count": 8
        }
      ]
    },
    {
      "cell_type": "markdown",
      "source": [
        "Знайти середнє значення"
      ],
      "metadata": {
        "id": "SoU51LOm9fgM"
      }
    },
    {
      "cell_type": "code",
      "source": [
        "mean = np.mean(matrix)\n",
        "print(mean)"
      ],
      "metadata": {
        "colab": {
          "base_uri": "https://localhost:8080/"
        },
        "id": "4q80w97V9hTm",
        "outputId": "f500d767-3541-4798-f680-ae5ac2141389"
      },
      "execution_count": 9,
      "outputs": [
        {
          "output_type": "stream",
          "name": "stdout",
          "text": [
            "3.0\n"
          ]
        }
      ]
    },
    {
      "cell_type": "markdown",
      "source": [
        "Обчислити матрицю квадратних коренів"
      ],
      "metadata": {
        "id": "8aQ_ab7e9jPq"
      }
    },
    {
      "cell_type": "code",
      "source": [
        "sqrt_matrix = np.sqrt(matrix)\n",
        "print(sqrt_matrix)"
      ],
      "metadata": {
        "colab": {
          "base_uri": "https://localhost:8080/"
        },
        "id": "tbgwCLK-9mMs",
        "outputId": "bd01056c-778e-40d1-a61e-1ea530ed2b0c"
      },
      "execution_count": 10,
      "outputs": [
        {
          "output_type": "stream",
          "name": "stdout",
          "text": [
            "[[1.73205081 2.23606798 2.23606798]\n",
            " [1.         1.73205081 2.        ]\n",
            " [1.41421356 1.         1.73205081]]\n"
          ]
        }
      ]
    },
    {
      "cell_type": "markdown",
      "source": [
        "Обчислити суму елементів кожного рядка"
      ],
      "metadata": {
        "id": "Jb_5DGK69onp"
      }
    },
    {
      "cell_type": "code",
      "source": [
        "row_sum = np.sum(matrix, axis=-1).reshape(-1, 1)\n",
        "print(row_sum)"
      ],
      "metadata": {
        "colab": {
          "base_uri": "https://localhost:8080/"
        },
        "id": "PvrXzaiJ9zv6",
        "outputId": "799f0afc-0009-4ffb-a2ea-3e2825785fa9"
      },
      "execution_count": 11,
      "outputs": [
        {
          "output_type": "stream",
          "name": "stdout",
          "text": [
            "[[13]\n",
            " [ 8]\n",
            " [ 6]]\n"
          ]
        }
      ]
    },
    {
      "cell_type": "code",
      "source": [
        "matrix.sum(axis=1).reshape(-1,1)"
      ],
      "metadata": {
        "colab": {
          "base_uri": "https://localhost:8080/"
        },
        "id": "LGPCczu993Ch",
        "outputId": "0f117b88-e472-44b1-c1d1-fb87513b50d4"
      },
      "execution_count": 12,
      "outputs": [
        {
          "output_type": "execute_result",
          "data": {
            "text/plain": [
              "array([[13],\n",
              "       [ 8],\n",
              "       [ 6]])"
            ]
          },
          "metadata": {},
          "execution_count": 12
        }
      ]
    },
    {
      "cell_type": "code",
      "source": [
        "x = np.matrix([[1, 2], [3, 4]])\n",
        "x"
      ],
      "metadata": {
        "colab": {
          "base_uri": "https://localhost:8080/"
        },
        "id": "ahSkbGRU946L",
        "outputId": "326046ad-2aff-44f8-c454-b3304d0ac3ee"
      },
      "execution_count": 13,
      "outputs": [
        {
          "output_type": "execute_result",
          "data": {
            "text/plain": [
              "matrix([[1, 2],\n",
              "        [3, 4]])"
            ]
          },
          "metadata": {},
          "execution_count": 13
        }
      ]
    },
    {
      "cell_type": "code",
      "source": [
        "x.sum(axis=1)"
      ],
      "metadata": {
        "colab": {
          "base_uri": "https://localhost:8080/"
        },
        "id": "sbwa6P5w97Zd",
        "outputId": "9426905a-7b61-4507-9600-f408e0c61091"
      },
      "execution_count": 14,
      "outputs": [
        {
          "output_type": "execute_result",
          "data": {
            "text/plain": [
              "matrix([[3],\n",
              "        [7]])"
            ]
          },
          "metadata": {},
          "execution_count": 14
        }
      ]
    },
    {
      "cell_type": "markdown",
      "source": [
        "Створення вектора з 25 елементів від 0 до 9 і сортування чисел за спаданням"
      ],
      "metadata": {
        "id": "EY6r0M-U9-IP"
      }
    },
    {
      "cell_type": "code",
      "source": [
        "vector = np.random.randint(0, 10, size=25)\n",
        "vector"
      ],
      "metadata": {
        "colab": {
          "base_uri": "https://localhost:8080/"
        },
        "id": "7KNXyek3-DQb",
        "outputId": "926dca67-ce15-4fd9-e622-8a3adb76acc6"
      },
      "execution_count": 15,
      "outputs": [
        {
          "output_type": "execute_result",
          "data": {
            "text/plain": [
              "array([2, 6, 0, 5, 2, 6, 5, 4, 0, 3, 4, 3, 5, 3, 2, 2, 5, 6, 9, 5, 3, 8,\n",
              "       1, 0, 5])"
            ]
          },
          "metadata": {},
          "execution_count": 15
        }
      ]
    },
    {
      "cell_type": "code",
      "source": [
        "sorted_vector = np.sort(vector)[::-1]\n",
        "sorted_vector"
      ],
      "metadata": {
        "colab": {
          "base_uri": "https://localhost:8080/"
        },
        "id": "i9BW4K1Z-Fdn",
        "outputId": "41b0afcd-2de5-4829-bc4a-10eef10c3c70"
      },
      "execution_count": 16,
      "outputs": [
        {
          "output_type": "execute_result",
          "data": {
            "text/plain": [
              "array([9, 8, 6, 6, 6, 5, 5, 5, 5, 5, 5, 4, 4, 3, 3, 3, 3, 2, 2, 2, 2, 1,\n",
              "       0, 0, 0])"
            ]
          },
          "metadata": {},
          "execution_count": 16
        }
      ]
    },
    {
      "cell_type": "markdown",
      "source": [
        "![image.png](data:image/png;base64,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)"
      ],
      "metadata": {
        "id": "TelbUlxQ-P-_"
      }
    },
    {
      "cell_type": "code",
      "source": [
        "import numpy as np\n",
        "a = np.array([\n",
        "    [4, 1, 4],\n",
        "    [1, 1, 2],\n",
        "    [2, 1, 2],\n",
        "])\n",
        "b = np.array([[-2], [-1], [0]])"
      ],
      "metadata": {
        "id": "rjnWiHXq-WA9"
      },
      "execution_count": 17,
      "outputs": []
    },
    {
      "cell_type": "markdown",
      "source": [
        "Матричний метод (2 спосіб)"
      ],
      "metadata": {
        "id": "jeF9dRViBAsE"
      }
    },
    {
      "cell_type": "code",
      "source": [
        "def solve_inv_matrix(a, b, verbose=False):\n",
        "    det = np.linalg.det(a)\n",
        "    if verbose: print(f\"Визначник матриці A: {round(det)}\")\n",
        "    if det == 0:\n",
        "        print(\"Визначник дорівнює нулю - рішень немає\")\n",
        "        return None\n",
        "\n",
        "    a_inv= np.linalg.inv(a)\n",
        "    if verbose: print(f\"Обернена матриця до матриці A: \\r\\n {a_inv }\")\n",
        "    return a_inv.dot(b)\n",
        "\n",
        "print(f\"Вектор рішення: \\r\\n {solve_inv_matrix(a, b)}\")"
      ],
      "metadata": {
        "colab": {
          "base_uri": "https://localhost:8080/"
        },
        "id": "XFYcGulhBDWY",
        "outputId": "4cc424b2-62e8-4d81-f44e-4ba60962002f"
      },
      "execution_count": 18,
      "outputs": [
        {
          "output_type": "stream",
          "name": "stdout",
          "text": [
            "Вектор рішення: \r\n",
            " [[ 1.]\n",
            " [ 2.]\n",
            " [-2.]]\n"
          ]
        }
      ]
    },
    {
      "cell_type": "markdown",
      "source": [
        "Метод Крамара (2 спосіб)"
      ],
      "metadata": {
        "id": "SjpT8QDxBGrO"
      }
    },
    {
      "cell_type": "code",
      "source": [
        "def solve_cramer(a, b, verbose=False):\n",
        "    det = np.linalg.det(a)\n",
        "    if verbose: print(f\"Визначник матриці A: {round(det)}\")\n",
        "    if det == 0:\n",
        "        print(\"Визначник дорівнює нулю - розв'язків немає\")\n",
        "        return None\n",
        "\n",
        "    len_a = len(a)\n",
        "    x = np.zeros((len_a, 1))\n",
        "    for i in range(len_a):\n",
        "        temp = np.copy(a)\n",
        "        temp[:, [i]] = b\n",
        "        x[i, 0] = np.linalg.det(temp)/det\n",
        "\n",
        "    return x\n",
        "\n",
        "\n",
        "print(f\"Вектор рішення: \\r\\n {solve_cramer(a, b)}\")"
      ],
      "metadata": {
        "colab": {
          "base_uri": "https://localhost:8080/"
        },
        "id": "k5B1hnhkBJB2",
        "outputId": "27b1be61-8fd9-4b77-df52-cd030a22a2f5"
      },
      "execution_count": 19,
      "outputs": [
        {
          "output_type": "stream",
          "name": "stdout",
          "text": [
            "Вектор рішення: \r\n",
            " [[ 1.]\n",
            " [ 2.]\n",
            " [-2.]]\n"
          ]
        }
      ]
    },
    {
      "cell_type": "markdown",
      "source": [
        "Перевірка"
      ],
      "metadata": {
        "id": "FDF7SeBIBMD7"
      }
    },
    {
      "cell_type": "code",
      "source": [
        "x = np.linalg.solve(a, b)\n",
        "\n",
        "print(x)"
      ],
      "metadata": {
        "colab": {
          "base_uri": "https://localhost:8080/"
        },
        "id": "IzY97rmZBNCg",
        "outputId": "e64eced6-7c97-4daa-ebfe-1541ec44bb32"
      },
      "execution_count": 20,
      "outputs": [
        {
          "output_type": "stream",
          "name": "stdout",
          "text": [
            "[[ 1.]\n",
            " [ 2.]\n",
            " [-2.]]\n"
          ]
        }
      ]
    },
    {
      "cell_type": "markdown",
      "source": [
        "Метод Гауса"
      ],
      "metadata": {
        "id": "j0-8wyzIBRf9"
      }
    },
    {
      "cell_type": "code",
      "source": [
        "def solve_gausse(a, b, verbose=False):\n",
        "    det = np.linalg.det(a)\n",
        "    if verbose: print(f\"Визначник матриці A: {round(det)}\")\n",
        "    if det == 0:\n",
        "        print(\"Визначник дорівнює нулю - розв'язків немає\")\n",
        "        return None\n",
        "    # Reading number of unknowns\n",
        "    n = len(b)\n",
        "    m = np.concatenate([a, b], axis=1, dtype=float)\n",
        "\n",
        "    # Applying Gauss-Jordan Elimination\n",
        "    for i in range(n):\n",
        "\n",
        "        # Swap rows to avoid division by 0\n",
        "        if m[i, i] == 0:\n",
        "            for k in range(i+1, n):\n",
        "                if m[k, k] != 0:\n",
        "                    m[[i, k], :] = m[[k, i], :]\n",
        "                    break\n",
        "\n",
        "\n",
        "        if m[i, i] != 1:\n",
        "            m[i, :] *= 1/m[i, i]\n",
        "\n",
        "        for j in range(n):\n",
        "            if i != j:\n",
        "                ratio = m[j][i]/m[i][i]\n",
        "\n",
        "                m[j, :] = m[j, :] - ratio * m[i, :]\n",
        "\n",
        "    return m[:, [-1]]\n",
        "\n",
        "print(f\"Вектор рішення: \\r\\n {solve_gausse(a, b)}\")"
      ],
      "metadata": {
        "colab": {
          "base_uri": "https://localhost:8080/"
        },
        "id": "2PrSkHHyBS9E",
        "outputId": "e35010e3-4f97-420a-9538-a641509f7976"
      },
      "execution_count": 21,
      "outputs": [
        {
          "output_type": "stream",
          "name": "stdout",
          "text": [
            "Вектор рішення: \r\n",
            " [[ 1.]\n",
            " [ 2.]\n",
            " [-2.]]\n"
          ]
        }
      ]
    }
  ]
}