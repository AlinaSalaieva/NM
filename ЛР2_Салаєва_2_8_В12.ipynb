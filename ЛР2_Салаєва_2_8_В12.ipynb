{
  "nbformat": 4,
  "nbformat_minor": 0,
  "metadata": {
    "colab": {
      "provenance": [],
      "include_colab_link": true
    },
    "kernelspec": {
      "name": "python3",
      "display_name": "Python 3"
    },
    "language_info": {
      "name": "python"
    }
  },
  "cells": [
    {
      "cell_type": "markdown",
      "metadata": {
        "id": "view-in-github",
        "colab_type": "text"
      },
      "source": [
        "<a href=\"https://colab.research.google.com/github/AlinaSalaieva/NM/blob/main/%D0%9B%D0%A02_%D0%A1%D0%B0%D0%BB%D0%B0%D1%94%D0%B2%D0%B0_2_8_%D0%9212.ipynb\" target=\"_parent\"><img src=\"https://colab.research.google.com/assets/colab-badge.svg\" alt=\"Open In Colab\"/></a>"
      ]
    },
    {
      "cell_type": "markdown",
      "source": [
        "1. Метод ділення навпіл."
      ],
      "metadata": {
        "id": "VgrW9zRY0dVt"
      }
    },
    {
      "cell_type": "code",
      "execution_count": 1,
      "metadata": {
        "colab": {
          "base_uri": "https://localhost:8080/"
        },
        "id": "iOTNXySVyeHy",
        "outputId": "0620ac33-6256-4235-f52b-5be16e671a45"
      },
      "outputs": [
        {
          "output_type": "stream",
          "name": "stdout",
          "text": [
            "Результати обчислень\n",
            "\n",
            "          a      F(a)         c      F(c)       b      F(b)\n",
            "0 -3.000000  0.977954 -2.000000  1.135204 -1.0000 -0.454649\n",
            "1 -2.000000  1.135204 -1.500000 -0.123480 -1.0000 -0.454649\n",
            "2 -2.000000  1.135204 -1.750000  0.405593 -1.5000 -0.123480\n",
            "3 -1.750000  0.405593 -1.625000  0.109040 -1.5000 -0.123480\n",
            "4 -1.625000  0.109040 -1.562500 -0.015587 -1.5000 -0.123480\n",
            "5 -1.625000  0.109040 -1.593750  0.044659 -1.5625 -0.015587\n",
            "6 -1.593750  0.044659 -1.578125  0.014015 -1.5625 -0.015587\n",
            "7 -1.578125  0.014015 -1.570312 -0.000917 -1.5625 -0.015587\n",
            "\n",
            "В точці с =  -1.5703125 , f(c) =  -0.0009171268569415665\n"
          ]
        }
      ],
      "source": [
        "import numpy as np\n",
        "import pandas as pd\n",
        "\n",
        "# Визначаємо функцію\n",
        "def f (x):\n",
        "    y = np.cos(x)*np.sin(x)*(x**2+x+1)\n",
        "    return y\n",
        "# Визначаємо границі відрізку\n",
        "a, b = -3, -1\n",
        "# Визначаємо точність розв'язку\n",
        "eps = 0.001\n",
        "# Поділяємо відрізок навпіл\n",
        "c = (a+b)/2\n",
        "# Зберігаємо результати обчислень\n",
        "data_A = [a]\n",
        "data_B = [b]\n",
        "data_C = [c]\n",
        "data_F_A = [f(a)]\n",
        "data_F_B = [f(b)]\n",
        "data_F_C = [f(c)]\n",
        "# Перевіряємо досягнення точності\n",
        "while np.abs(f(c)) > eps:\n",
        "    # Звужуємо відрізок\n",
        "    if np.sign(f(c)) == np.sign(f(a)):\n",
        "        a = c\n",
        "    else:\n",
        "        b = c\n",
        "    # Поділяємо відрізок навпіл\n",
        "    c = (a+b)/2\n",
        "    # Зберігаємо результати обчислень\n",
        "    data_A.append(a)\n",
        "    data_B.append(b)\n",
        "    data_C.append(c)\n",
        "    data_F_A.append(f(a))\n",
        "    data_F_B.append(f(b))\n",
        "    data_F_C.append(f(c))\n",
        "# Відображаємо результати обчислень\n",
        "print('Результати обчислень')\n",
        "print()\n",
        "data = pd.DataFrame({'a': data_A,\n",
        "                     'F(a)': data_F_A,\n",
        "                     'c': data_C,\n",
        "                     'F(c)': data_F_C,\n",
        "                     'b': data_B,\n",
        "                     'F(b)': data_F_B})\n",
        "print(data)\n",
        "# Відображаємо наближений корінь рівняння\n",
        "print()\n",
        "print('В точці с = ', c, ', f(c) = ', f(c))"
      ]
    },
    {
      "cell_type": "markdown",
      "source": [
        "2. Метод ділення навпіл"
      ],
      "metadata": {
        "id": "5hYa7ucn0PEN"
      }
    },
    {
      "cell_type": "code",
      "source": [
        "import numpy as np\n",
        "import scipy.optimize as sp\n",
        "\n",
        "def f(x):\n",
        "    y = np.cos(x)*np.sin(x)*(x**2+x+1)\n",
        "    return y\n",
        "\n",
        "a, b = -3, -1\n",
        "eps = 1.e-3\n",
        "\n",
        "x = sp.bisect(f, a, b,(),eps) #функція для метода\n",
        "\n",
        "print('The approximate solution x is:', x)\n",
        "print('And the value f(x) is:', f(x))"
      ],
      "metadata": {
        "colab": {
          "base_uri": "https://localhost:8080/"
        },
        "id": "ML3KEw5q0H1e",
        "outputId": "091e1b15-36eb-4ac2-c2be-ac11bcc21698"
      },
      "execution_count": 2,
      "outputs": [
        {
          "output_type": "stream",
          "name": "stdout",
          "text": [
            "The approximate solution x is: -1.5712890625\n",
            "And the value f(x) is: 0.0009350448126615916\n"
          ]
        }
      ]
    },
    {
      "cell_type": "markdown",
      "source": [
        "3. Метод хорд"
      ],
      "metadata": {
        "id": "sYf0IvR41ufd"
      }
    },
    {
      "cell_type": "code",
      "source": [
        "import numpy as np\n",
        "import pandas as pd\n",
        "# Визначаємо функцію\n",
        "def f(x):\n",
        "    y = np.cos(x)*np.sin(x)*(x**2+x+1)\n",
        "    return y\n",
        "# Визначаємо межі відрізку\n",
        "a, b = -3, -1\n",
        "# Визначаємо точність розв'язку\n",
        "eps = 0.001\n",
        "# Точка, де хорда перетинає вісь 0x\n",
        "c = (f(a)*b-a*f(b))/(f(a)-f(b))\n",
        "\n",
        "# Зберігаємо результати обчислень\n",
        "data_A = [a]\n",
        "data_B = [b]\n",
        "data_C = [c]\n",
        "data_F_A = [f(a)]\n",
        "data_F_B = [f(b)]\n",
        "data_F_C = [f(c)]\n",
        "# Перевіряємо досягнення точності\n",
        "while np.abs(f(c)) > eps:\n",
        "    # Звужуємо відрізок\n",
        "    if np.sign(f(c)) == np.sign(f(a)):\n",
        "        a = c\n",
        "    else:\n",
        "        b = c\n",
        "    # Точка, де хорда перетинає вісь 0x\n",
        "    c = (f(a)*b-a*f(b))/(f(a)-f(b))\n",
        "    # Зберігаємо результати обчислень\n",
        "    data_A.append(a)\n",
        "    data_B.append(b)\n",
        "    data_C.append(c)\n",
        "    data_F_A.append(f(a))\n",
        "    data_F_B.append(f(b))\n",
        "    data_F_C.append(f(c))\n",
        "# Відображаємо результати обчислень\n",
        "print('Результати обчислень')\n",
        "print()\n",
        "data = pd.DataFrame({'a': data_A, 'F(a)': data_F_A,\n",
        "                     'c': data_C, 'F(c)': data_F_C,\n",
        "                     'b': data_B, 'F(b)': data_F_B})\n",
        "print(data)\n",
        "# Відображаємо наближений корінь рівняння\n",
        "print()\n",
        "print('В точці с = ', c, ', f(c) = ', f(c))"
      ],
      "metadata": {
        "colab": {
          "base_uri": "https://localhost:8080/"
        },
        "id": "3p6i5xHK1y3l",
        "outputId": "a0147aa3-0f56-4746-d5f5-40b3f3b33d2e"
      },
      "execution_count": 3,
      "outputs": [
        {
          "output_type": "stream",
          "name": "stdout",
          "text": [
            "Результати обчислень\n",
            "\n",
            "          a      F(a)         c      F(c)         b      F(b)\n",
            "0 -3.000000  0.977954 -1.634717  0.129889 -1.000000 -0.454649\n",
            "1 -1.634717  0.129889 -1.493678 -0.133455 -1.000000 -0.454649\n",
            "2 -1.634717  0.129889 -1.565152 -0.010636 -1.493678 -0.133455\n",
            "3 -1.634717  0.129889 -1.570418 -0.000718 -1.565152 -0.010636\n",
            "\n",
            "В точці с =  -1.5704175737258015 , f(c) =  -0.0007180376446871882\n"
          ]
        }
      ]
    },
    {
      "cell_type": "markdown",
      "source": [
        "4. Метод Ньютона (дотичних)"
      ],
      "metadata": {
        "id": "40blPBSK2Cdm"
      }
    },
    {
      "cell_type": "code",
      "source": [
        "import numpy as np\n",
        "import pandas as pd\n",
        "# Визначаємо функцію\n",
        "def f(x):\n",
        "    y = np.cos(x)*np.sin(x)*(x**2+x+1)\n",
        "    return y\n",
        "# Визначаємо першу похідну\n",
        "def df(x):\n",
        "    y1 = -(x**2+x+1)*(np.sin(x))**2\n",
        "    y2 = (x**2+x+1)*(np.cos(x))**2\n",
        "    y3 = (2*x+1)*np.sin(x)*np.cos(x)\n",
        "    y = y1+y2+y3\n",
        "    return y\n",
        "# Визначаємо початкову точку\n",
        "c = -1.4\n",
        "# Визначаємо точність розв'язку\n",
        "h = 0.001\n",
        "# Зберігаємо результати обчислень\n",
        "data_C = [c]\n",
        "data_F_C = [f(c)]\n",
        "# Перевіряємо досягнення точності\n",
        "while abs(f(c)) > h:\n",
        "    # Точка, де дотична перетинає вісь 0x\n",
        "    c -= f(c)/df(c)\n",
        "    # Зберігаємо результати обчислень\n",
        "    data_C.append(c)\n",
        "    data_F_C.append(f(c))\n",
        "# Відображаємо результати обчислень\n",
        "print('Результати обчислень')\n",
        "print()\n",
        "data = pd.DataFrame({'c': data_C, 'F(c)': data_F_C})\n",
        "print(data)\n",
        "# Відображаємо наближений корінь рівняння\n",
        "print()\n",
        "print('В точці с = ', c, ', f(c) = ', f(c))"
      ],
      "metadata": {
        "colab": {
          "base_uri": "https://localhost:8080/"
        },
        "id": "WeGQjbjW2HDz",
        "outputId": "c206c81d-1bbe-424e-cc74-c04c72c3d830"
      },
      "execution_count": 4,
      "outputs": [
        {
          "output_type": "stream",
          "name": "stdout",
          "text": [
            "Результати обчислень\n",
            "\n",
            "          c      F(c)\n",
            "0 -1.400000 -0.261291\n",
            "1 -1.623636  0.106144\n",
            "2 -1.573564  0.005266\n",
            "3 -1.570805  0.000016\n",
            "\n",
            "В точці с =  -1.5708049170979717 , f(c) =  1.6292567852764437e-05\n"
          ]
        }
      ]
    },
    {
      "cell_type": "markdown",
      "source": [
        "5. Метод Ньютона (дотичних)"
      ],
      "metadata": {
        "id": "qjI38bTp0xCo"
      }
    },
    {
      "cell_type": "code",
      "source": [
        "import numpy as np\n",
        "import scipy.optimize as sp\n",
        "\n",
        "def f(x):\n",
        "    y = np.cos(x)*np.sin(x)*(x**2+x+1)\n",
        "    return y\n",
        "\n",
        "def df(x):# Обчислення похідної\n",
        "    y1 = -(x**2+x+1)*(np.sin(x))**2\n",
        "    y2 = (x**2+x+1)*(np.cos(x))**2\n",
        "    y3 = (2*x+1)*np.sin(x)*np.cos(x)\n",
        "    y = y1+y2+y3\n",
        "    return y\n",
        "\n",
        "x0 = -1.4\n",
        "x1 = 1.4\n",
        "\n",
        "x_0 = sp.newton(f, x0, df, tol=1.e-3, maxiter=50)\n",
        "x_1 = sp.newton(f, x1, df, tol=1.e-3, maxiter=50)\n",
        "\n",
        "print('The approximate solution x is:', x_0)\n",
        "print('And the value f(x_0) is:', f(x_0))\n",
        "\n",
        "print('The approximate solution x is:', x_1)\n",
        "print('And the value f(x_0) is:', f(x_1))"
      ],
      "metadata": {
        "colab": {
          "base_uri": "https://localhost:8080/"
        },
        "id": "AonZxq_H0m6-",
        "outputId": "f475a218-f7f9-4bcd-fe4f-d585b4c2caad"
      },
      "execution_count": 5,
      "outputs": [
        {
          "output_type": "stream",
          "name": "stdout",
          "text": [
            "The approximate solution x is: -1.5707963268782201\n",
            "And the value f(x_0) is: 1.5803176499052036e-10\n",
            "The approximate solution x is: 1.5707963267958693\n",
            "And the value f(x_0) is: -4.9007361645997675e-12\n"
          ]
        }
      ]
    },
    {
      "cell_type": "markdown",
      "source": [
        " # Знаходження коренів рівняння за допомогою бібліотеки SymPy"
      ],
      "metadata": {
        "id": "pvK9N9TH1QD-"
      }
    },
    {
      "cell_type": "code",
      "source": [
        "import sympy as sym\n",
        "\n",
        "x = sym.Symbol('x')\n",
        "\n",
        "y = sym.cos(x)*sym.sin(x)*(x**2+x+1)\n",
        "\n",
        "s = sym.solve(y)\n",
        "\n",
        "print(s)"
      ],
      "metadata": {
        "colab": {
          "base_uri": "https://localhost:8080/"
        },
        "id": "PuAp1WCr08qt",
        "outputId": "0541ae21-ac0d-4867-ea3b-d5ab9813628e"
      },
      "execution_count": 6,
      "outputs": [
        {
          "output_type": "stream",
          "name": "stdout",
          "text": [
            "[0, pi/2, pi, 3*pi/2, -1/2 - sqrt(3)*I/2, -1/2 + sqrt(3)*I/2]\n"
          ]
        }
      ]
    },
    {
      "cell_type": "code",
      "source": [
        "import sympy as sym\n",
        "\n",
        "x, a, b, c = sym.symbols('x, a, b, c')\n",
        "\n",
        "y = a * x**2 + b * x + c\n",
        "\n",
        "s = sym.solve(y, x)\n",
        "\n",
        "print(s)"
      ],
      "metadata": {
        "colab": {
          "base_uri": "https://localhost:8080/"
        },
        "id": "Y0d-uHtp1c7r",
        "outputId": "c16dcfc2-79ae-4362-f31e-1c6c18796376"
      },
      "execution_count": 7,
      "outputs": [
        {
          "output_type": "stream",
          "name": "stdout",
          "text": [
            "[(-b - sqrt(-4*a*c + b**2))/(2*a), (-b + sqrt(-4*a*c + b**2))/(2*a)]\n"
          ]
        }
      ]
    },
    {
      "cell_type": "markdown",
      "source": [],
      "metadata": {
        "id": "mk1oBvYj1GC2"
      }
    },
    {
      "cell_type": "code",
      "source": [
        "!pip install numdifftools"
      ],
      "metadata": {
        "colab": {
          "base_uri": "https://localhost:8080/"
        },
        "id": "yiLJNuM3Cq0-",
        "outputId": "7376a7f8-7558-47e1-f68e-0f6e3ff59230"
      },
      "execution_count": 8,
      "outputs": [
        {
          "output_type": "stream",
          "name": "stdout",
          "text": [
            "Collecting numdifftools\n",
            "  Downloading numdifftools-0.9.41-py2.py3-none-any.whl.metadata (39 kB)\n",
            "Requirement already satisfied: numpy>=1.9 in /usr/local/lib/python3.12/dist-packages (from numdifftools) (2.0.2)\n",
            "Requirement already satisfied: scipy>=0.8 in /usr/local/lib/python3.12/dist-packages (from numdifftools) (1.16.1)\n",
            "Downloading numdifftools-0.9.41-py2.py3-none-any.whl (100 kB)\n",
            "\u001b[2K   \u001b[90m━━━━━━━━━━━━━━━━━━━━━━━━━━━━━━━━━━━━━━━━\u001b[0m \u001b[32m100.2/100.2 kB\u001b[0m \u001b[31m3.8 MB/s\u001b[0m eta \u001b[36m0:00:00\u001b[0m\n",
            "\u001b[?25hInstalling collected packages: numdifftools\n",
            "Successfully installed numdifftools-0.9.41\n"
          ]
        }
      ]
    },
    {
      "cell_type": "code",
      "source": [
        "#Лабораторна робота 2\n",
        "#Відокремлення коренів\n",
        "import numpy as np\n",
        "import numdifftools as nd\n",
        "\n",
        "def f(x):\n",
        "    return 9*x**4 + 12*x**3 - 36*x**2 - 2\n",
        "\n",
        "\n",
        "def find_segments(): #відокремлюємо корені\n",
        "    search_range = np.arange(-5, 5, 1)\n",
        "\n",
        "    a = None\n",
        "    previous_x = None\n",
        "    current_x  = None\n",
        "    segments = []\n",
        "\n",
        "    for x in search_range:\n",
        "        x = round(x, 4)\n",
        "        current_x = f(x)\n",
        "        if previous_x != None and previous_x * current_x < 0:\n",
        "            segments.append((a, x))\n",
        "        a = x\n",
        "        previous_x = current_x\n",
        "    return segments\n",
        "\n",
        "segments = find_segments()\n",
        "for a, b in segments:\n",
        "    print(f'Found segment:  [{a}, {b}]')\n"
      ],
      "metadata": {
        "colab": {
          "base_uri": "https://localhost:8080/"
        },
        "id": "L-9dn4npCso-",
        "outputId": "b3cd6b5c-0817-4e62-c2f8-30e0ad0b7f60"
      },
      "execution_count": 9,
      "outputs": [
        {
          "output_type": "stream",
          "name": "stdout",
          "text": [
            "Found segment:  [-3, -2]\n",
            "Found segment:  [1, 2]\n"
          ]
        }
      ]
    },
    {
      "cell_type": "code",
      "source": [
        "import numpy as np\n",
        "import matplotlib.pyplot as plt\n",
        "\n",
        "# Визначення функції\n",
        "def f(x):\n",
        "    return 9*x**4 + 12*x**3 - 36*x**2 - 2\n",
        "\n",
        "# Генерація значень x\n",
        "x = np.linspace(-4, 4, 100)\n",
        "\n",
        "# Генерація значень y\n",
        "y = f(x)\n",
        "\n",
        "# Побудова графіка\n",
        "plt.figure(figsize=(8, 6))\n",
        "plt.plot(x, y, label='9*x**4 + 12*x**3 - 36*x**2 - 2', color='blue')\n",
        "plt.title('Графік функції 9*x**4 + 12*x**3 - 36*x**2 - 2')\n",
        "plt.xlabel('x')\n",
        "plt.ylabel('f(x)')\n",
        "\n",
        "# Додавання осей з стрілками\n",
        "plt.axhline(0, color='black', linewidth=0.5)\n",
        "plt.axvline(0, color='black', linewidth=0.5)\n",
        "\n",
        "plt.text(2.05, -4, 'x', ha='center', va='center')\n",
        "plt.text(-0.3, 190, 'y', ha='center', va='center')\n",
        "\n",
        "plt.grid(True)\n",
        "plt.legend()\n",
        "plt.show()\n"
      ],
      "metadata": {
        "colab": {
          "base_uri": "https://localhost:8080/",
          "height": 564
        },
        "id": "7zUI3d1xZXar",
        "outputId": "31a40521-be5d-4b47-91dd-591418a78f4a"
      },
      "execution_count": 10,
      "outputs": [
        {
          "output_type": "display_data",
          "data": {
            "text/plain": [
              "<Figure size 800x600 with 1 Axes>"
            ],
            "image/png": "[encoded data removed]"
          },
          "metadata": {}
        }
      ]
    },
    {
      "cell_type": "markdown",
      "source": [
        "![image.png](data:image/png;base64,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)"
      ],
      "metadata": {
        "id": "iucXiNXb3ldp"
      }
    },
    {
      "cell_type": "code",
      "source": [
        "#Лабораторна робота. Метод половинного ділення, хорд\n",
        "\n",
        "def rec(a, b, eps):  # метод половинного ділення\n",
        "    while (np.abs(a - b) > eps):\n",
        "        if f(a) * f((a + b) / 2) < 0:\n",
        "            b = (a + b) / 2\n",
        "        else:\n",
        "            a = (a + b) / 2\n",
        "        x = (a + b) / 2\n",
        "\n",
        "    print('x= ', round(x, 5), '  -   Half division method')\n"
      ],
      "metadata": {
        "id": "BgjK94O9Cfxe"
      },
      "execution_count": 11,
      "outputs": []
    },
    {
      "cell_type": "code",
      "source": [
        "def hord(a, b, eps):  # метод хорд\n",
        "    derivative_f = nd.Derivative(f, n=2)\n",
        "    if f(a) * derivative_f(a) > 0:\n",
        "        x0 = a\n",
        "        xi = b\n",
        "    else:\n",
        "        x0 = b\n",
        "        xi = a\n",
        "    xi_1 = xi - (xi - x0) * f(xi) / (f(xi) - f(x0))\n",
        "    while (np.abs(xi_1 - xi) > eps):\n",
        "        xi = xi_1\n",
        "        xi_1 = xi - (xi - x0) * f(xi) / (f(xi) - f(x0))\n",
        "    print('x= ', round(xi_1, 5), '  -   Chord method')\n"
      ],
      "metadata": {
        "id": "Sz_KWVf7D2tL"
      },
      "execution_count": 12,
      "outputs": []
    },
    {
      "cell_type": "code",
      "source": [
        "if __name__ == \"__main__\":\n",
        "    a1, b1 = -3, -2\n",
        "    a2, b2 = 1, 2\n",
        "    eps = 0.001\n",
        "    print(\"Розв'язки на відрізку [-3,-2]\")\n",
        "    rec(a1, b1, eps)\n",
        "    hord(a1, b1, eps)\n",
        "    print(\"\\n Розв'язки на відрізку [1,2]\")\n",
        "    rec(a2, b2, eps)\n",
        "    hord(a2, b2, eps)"
      ],
      "metadata": {
        "id": "upx7R4yoFZj_",
        "outputId": "b32db2bc-1179-4591-8e45-b8d60ac065fc",
        "colab": {
          "base_uri": "https://localhost:8080/"
        }
      },
      "execution_count": 13,
      "outputs": [
        {
          "output_type": "stream",
          "name": "stdout",
          "text": [
            "Розв'язки на відрізку [-3,-2]\n",
            "x=  -2.78174   -   Half division method\n",
            "x=  -2.7816   -   Chord method\n",
            "\n",
            " Розв'язки на відрізку [1,2]\n",
            "x=  1.46631   -   Half division method\n",
            "x=  1.46527   -   Chord method\n"
          ]
        }
      ]
    },
    {
      "cell_type": "code",
      "source": [
        "import sympy as sym\n",
        "\n",
        "x, a, b, c = sym.symbols('x, a, b, c')\n",
        "f = 9*x**4 + 12*x**3 - 36*x**2 - 2\n",
        "s = sym.solve(f, x)\n",
        "print(s)"
      ],
      "metadata": {
        "colab": {
          "base_uri": "https://localhost:8080/"
        },
        "id": "cYJ-q7uyvA2L",
        "outputId": "83f1574a-67d5-43d4-a44e-756dfc9dbd9d"
      },
      "execution_count": 14,
      "outputs": [
        {
          "output_type": "stream",
          "name": "stdout",
          "text": [
            "[-1/3 - sqrt(28/9 + 20/(27*(-38/81 + 14*sqrt(51)/243)**(1/3)) + 2*(-38/81 + 14*sqrt(51)/243)**(1/3))/2 + sqrt(56/9 - 2*(-38/81 + 14*sqrt(51)/243)**(1/3) + 160/(27*sqrt(28/9 + 20/(27*(-38/81 + 14*sqrt(51)/243)**(1/3)) + 2*(-38/81 + 14*sqrt(51)/243)**(1/3))) - 20/(27*(-38/81 + 14*sqrt(51)/243)**(1/3)))/2, -1/3 + sqrt(28/9 + 20/(27*(-38/81 + 14*sqrt(51)/243)**(1/3)) + 2*(-38/81 + 14*sqrt(51)/243)**(1/3))/2 + sqrt(56/9 - 2*(-38/81 + 14*sqrt(51)/243)**(1/3) - 160/(27*sqrt(28/9 + 20/(27*(-38/81 + 14*sqrt(51)/243)**(1/3)) + 2*(-38/81 + 14*sqrt(51)/243)**(1/3))) - 20/(27*(-38/81 + 14*sqrt(51)/243)**(1/3)))/2, -1/3 - sqrt(56/9 - 2*(-38/81 + 14*sqrt(51)/243)**(1/3) - 160/(27*sqrt(28/9 + 20/(27*(-38/81 + 14*sqrt(51)/243)**(1/3)) + 2*(-38/81 + 14*sqrt(51)/243)**(1/3))) - 20/(27*(-38/81 + 14*sqrt(51)/243)**(1/3)))/2 + sqrt(28/9 + 20/(27*(-38/81 + 14*sqrt(51)/243)**(1/3)) + 2*(-38/81 + 14*sqrt(51)/243)**(1/3))/2, -1/3 - sqrt(56/9 - 2*(-38/81 + 14*sqrt(51)/243)**(1/3) + 160/(27*sqrt(28/9 + 20/(27*(-38/81 + 14*sqrt(51)/243)**(1/3)) + 2*(-38/81 + 14*sqrt(51)/243)**(1/3))) - 20/(27*(-38/81 + 14*sqrt(51)/243)**(1/3)))/2 - sqrt(28/9 + 20/(27*(-38/81 + 14*sqrt(51)/243)**(1/3)) + 2*(-38/81 + 14*sqrt(51)/243)**(1/3))/2]\n"
          ]
        }
      ]
    },
    {
      "cell_type": "code",
      "source": [
        "#Лабораторна робота 3. Метод Ньютона (дотичних). Комбінований метод\n",
        "\n",
        "def nuton(a, b, eps, f):\n",
        "    df2 = nd.Derivative(f, n=2)(b)  # Отримуємо значення похідної другого порядку в точці b\n",
        "    if f(b) * df2 > 0:\n",
        "        xi = b\n",
        "    else:\n",
        "        xi = a\n",
        "    df = nd.Derivative(f, n=1)(xi)  # Отримуємо значення похідної першого порядку в точці xi\n",
        "    xi_1 = xi - f(xi) / df\n",
        "    while abs(xi_1 - xi) > eps:  # перевіряємо точність\n",
        "        xi = xi_1\n",
        "        xi_1 = xi - f(xi) / df\n",
        "    print('Метод Ньютона, x = ', xi_1.round(4))\n"
      ],
      "metadata": {
        "id": "uz6OF8g2C-vY"
      },
      "execution_count": 19,
      "outputs": []
    },
    {
      "cell_type": "code",
      "source": [
        "def komb(a, b, eps, f):\n",
        "    df2 = nd.Derivative(f, n=2)(a)\n",
        "    if f(a) * df2 > 0:\n",
        "        a0 = a\n",
        "        b0 = b\n",
        "    else:\n",
        "        a0 = b\n",
        "        b0 = a\n",
        "    ai = a0\n",
        "    bi = b0\n",
        "    while abs(ai - bi) > eps:\n",
        "        ai_1 = ai - f(ai) * (bi - ai) / (f(bi) - f(ai))\n",
        "        bi_1 = bi - f(bi) / nd.Derivative(f, n=1)(bi)\n",
        "        ai = ai_1\n",
        "        bi = bi_1\n",
        "    x = (ai_1 + bi_1) / 2\n",
        "\n",
        "    print('Комбінований метод, x = ', x.round(4))\n"
      ],
      "metadata": {
        "id": "M2T4FA4ifyy_"
      },
      "execution_count": 20,
      "outputs": []
    },
    {
      "cell_type": "code",
      "source": [
        "if __name__ == \"__main__\":\n",
        "    a1, b1 = -3, -2\n",
        "    a2, b2 = 1, 2\n",
        "    eps = 0.001\n",
        "\n",
        "    print(\"Розв'язання на відрізку [-3, -2]\")\n",
        "    nuton(a1, b1, eps, f)\n",
        "    komb(a1, b1, eps, f)\n",
        "    print(\"\\n Розв'язання на відрізку [1, 2]\")\n",
        "    nuton(a2, b2, eps, f)\n",
        "    komb(a2, b2, eps, f)"
      ],
      "metadata": {
        "colab": {
          "base_uri": "https://localhost:8080/",
          "height": 373
        },
        "id": "zrxTpvysf0zN",
        "outputId": "78288558-7aff-4597-cc3f-ba25aa50e556"
      },
      "execution_count": 18,
      "outputs": [
        {
          "output_type": "stream",
          "name": "stdout",
          "text": [
            "Розв'язання на відрізку [-3, -2]\n"
          ]
        },
        {
          "output_type": "error",
          "ename": "TypeError",
          "evalue": "'Add' object is not callable",
          "traceback": [
            "\u001b[0;31m---------------------------------------------------------------------------\u001b[0m",
            "\u001b[0;31mTypeError\u001b[0m                                 Traceback (most recent call last)",
            "\u001b[0;32m/tmp/ipython-input-568005391.py\u001b[0m in \u001b[0;36m<cell line: 0>\u001b[0;34m()\u001b[0m\n\u001b[1;32m      5\u001b[0m \u001b[0;34m\u001b[0m\u001b[0m\n\u001b[1;32m      6\u001b[0m     \u001b[0mprint\u001b[0m\u001b[0;34m(\u001b[0m\u001b[0;34m\"Розв'язання на відрізку [-3, -2]\"\u001b[0m\u001b[0;34m)\u001b[0m\u001b[0;34m\u001b[0m\u001b[0;34m\u001b[0m\u001b[0m\n\u001b[0;32m----> 7\u001b[0;31m     \u001b[0mnuton\u001b[0m\u001b[0;34m(\u001b[0m\u001b[0ma1\u001b[0m\u001b[0;34m,\u001b[0m \u001b[0mb1\u001b[0m\u001b[0;34m,\u001b[0m \u001b[0meps\u001b[0m\u001b[0;34m,\u001b[0m \u001b[0mf\u001b[0m\u001b[0;34m)\u001b[0m\u001b[0;34m\u001b[0m\u001b[0;34m\u001b[0m\u001b[0m\n\u001b[0m\u001b[1;32m      8\u001b[0m     \u001b[0mkomb\u001b[0m\u001b[0;34m(\u001b[0m\u001b[0ma1\u001b[0m\u001b[0;34m,\u001b[0m \u001b[0mb1\u001b[0m\u001b[0;34m,\u001b[0m \u001b[0meps\u001b[0m\u001b[0;34m,\u001b[0m \u001b[0mf\u001b[0m\u001b[0;34m)\u001b[0m\u001b[0;34m\u001b[0m\u001b[0;34m\u001b[0m\u001b[0m\n\u001b[1;32m      9\u001b[0m     \u001b[0mprint\u001b[0m\u001b[0;34m(\u001b[0m\u001b[0;34m\"\\n Розв'язання на відрізку [1, 2]\"\u001b[0m\u001b[0;34m)\u001b[0m\u001b[0;34m\u001b[0m\u001b[0;34m\u001b[0m\u001b[0m\n",
            "\u001b[0;32m/tmp/ipython-input-2483634676.py\u001b[0m in \u001b[0;36mnuton\u001b[0;34m(a, b, eps, f)\u001b[0m\n\u001b[1;32m      2\u001b[0m \u001b[0;34m\u001b[0m\u001b[0m\n\u001b[1;32m      3\u001b[0m \u001b[0;32mdef\u001b[0m \u001b[0mnuton\u001b[0m\u001b[0;34m(\u001b[0m\u001b[0ma\u001b[0m\u001b[0;34m,\u001b[0m \u001b[0mb\u001b[0m\u001b[0;34m,\u001b[0m \u001b[0meps\u001b[0m\u001b[0;34m,\u001b[0m \u001b[0mf\u001b[0m\u001b[0;34m)\u001b[0m\u001b[0;34m:\u001b[0m\u001b[0;34m\u001b[0m\u001b[0;34m\u001b[0m\u001b[0m\n\u001b[0;32m----> 4\u001b[0;31m     \u001b[0mdf2\u001b[0m \u001b[0;34m=\u001b[0m \u001b[0mnd\u001b[0m\u001b[0;34m.\u001b[0m\u001b[0mDerivative\u001b[0m\u001b[0;34m(\u001b[0m\u001b[0mf\u001b[0m\u001b[0;34m,\u001b[0m \u001b[0mn\u001b[0m\u001b[0;34m=\u001b[0m\u001b[0;36m2\u001b[0m\u001b[0;34m)\u001b[0m\u001b[0;34m(\u001b[0m\u001b[0mb\u001b[0m\u001b[0;34m)\u001b[0m  \u001b[0;31m# Отримуємо значення похідної другого порядку в точці b\u001b[0m\u001b[0;34m\u001b[0m\u001b[0;34m\u001b[0m\u001b[0m\n\u001b[0m\u001b[1;32m      5\u001b[0m     \u001b[0;32mif\u001b[0m \u001b[0mf\u001b[0m\u001b[0;34m(\u001b[0m\u001b[0mb\u001b[0m\u001b[0;34m)\u001b[0m \u001b[0;34m*\u001b[0m \u001b[0mdf2\u001b[0m \u001b[0;34m>\u001b[0m \u001b[0;36m0\u001b[0m\u001b[0;34m:\u001b[0m\u001b[0;34m\u001b[0m\u001b[0;34m\u001b[0m\u001b[0m\n\u001b[1;32m      6\u001b[0m         \u001b[0mxi\u001b[0m \u001b[0;34m=\u001b[0m \u001b[0mb\u001b[0m\u001b[0;34m\u001b[0m\u001b[0;34m\u001b[0m\u001b[0m\n",
            "\u001b[0;32m/usr/local/lib/python3.12/dist-packages/numdifftools/core.py\u001b[0m in \u001b[0;36m__call__\u001b[0;34m(self, x, *args, **kwds)\u001b[0m\n\u001b[1;32m    286\u001b[0m         \u001b[0mx_i\u001b[0m \u001b[0;34m=\u001b[0m \u001b[0mnp\u001b[0m\u001b[0;34m.\u001b[0m\u001b[0masarray\u001b[0m\u001b[0;34m(\u001b[0m\u001b[0mx\u001b[0m\u001b[0;34m)\u001b[0m\u001b[0;34m\u001b[0m\u001b[0;34m\u001b[0m\u001b[0m\n\u001b[1;32m    287\u001b[0m         \u001b[0;32mwith\u001b[0m \u001b[0mnp\u001b[0m\u001b[0;34m.\u001b[0m\u001b[0merrstate\u001b[0m\u001b[0;34m(\u001b[0m\u001b[0mdivide\u001b[0m\u001b[0;34m=\u001b[0m\u001b[0;34m'ignore'\u001b[0m\u001b[0;34m,\u001b[0m \u001b[0minvalid\u001b[0m\u001b[0;34m=\u001b[0m\u001b[0;34m'ignore'\u001b[0m\u001b[0;34m)\u001b[0m\u001b[0;34m:\u001b[0m\u001b[0;34m\u001b[0m\u001b[0;34m\u001b[0m\u001b[0m\n\u001b[0;32m--> 288\u001b[0;31m             \u001b[0mresults\u001b[0m\u001b[0;34m,\u001b[0m \u001b[0mf_xi\u001b[0m \u001b[0;34m=\u001b[0m \u001b[0mself\u001b[0m\u001b[0;34m.\u001b[0m\u001b[0m_derivative\u001b[0m\u001b[0;34m(\u001b[0m\u001b[0mx_i\u001b[0m\u001b[0;34m,\u001b[0m \u001b[0margs\u001b[0m\u001b[0;34m,\u001b[0m \u001b[0mkwds\u001b[0m\u001b[0;34m)\u001b[0m\u001b[0;34m\u001b[0m\u001b[0;34m\u001b[0m\u001b[0m\n\u001b[0m\u001b[1;32m    289\u001b[0m             \u001b[0mderivative\u001b[0m\u001b[0;34m,\u001b[0m \u001b[0minfo\u001b[0m \u001b[0;34m=\u001b[0m \u001b[0mself\u001b[0m\u001b[0;34m.\u001b[0m\u001b[0m_extrapolate\u001b[0m\u001b[0;34m(\u001b[0m\u001b[0;34m*\u001b[0m\u001b[0mresults\u001b[0m\u001b[0;34m)\u001b[0m\u001b[0;34m\u001b[0m\u001b[0;34m\u001b[0m\u001b[0m\n\u001b[1;32m    290\u001b[0m         \u001b[0;32mif\u001b[0m \u001b[0mself\u001b[0m\u001b[0;34m.\u001b[0m\u001b[0mfull_output\u001b[0m\u001b[0;34m:\u001b[0m\u001b[0;34m\u001b[0m\u001b[0;34m\u001b[0m\u001b[0m\n",
            "\u001b[0;32m/usr/local/lib/python3.12/dist-packages/numdifftools/core.py\u001b[0m in \u001b[0;36m_derivative_nonzero_order\u001b[0;34m(self, x_i, args, kwds)\u001b[0m\n\u001b[1;32m    235\u001b[0m         \u001b[0mdiff\u001b[0m\u001b[0;34m,\u001b[0m \u001b[0mf\u001b[0m \u001b[0;34m=\u001b[0m \u001b[0mself\u001b[0m\u001b[0;34m.\u001b[0m\u001b[0m_get_functions\u001b[0m\u001b[0;34m(\u001b[0m\u001b[0margs\u001b[0m\u001b[0;34m,\u001b[0m \u001b[0mkwds\u001b[0m\u001b[0;34m)\u001b[0m\u001b[0;34m\u001b[0m\u001b[0;34m\u001b[0m\u001b[0m\n\u001b[1;32m    236\u001b[0m         \u001b[0msteps\u001b[0m\u001b[0;34m,\u001b[0m \u001b[0mstep_ratio\u001b[0m \u001b[0;34m=\u001b[0m \u001b[0mself\u001b[0m\u001b[0;34m.\u001b[0m\u001b[0m_get_steps\u001b[0m\u001b[0;34m(\u001b[0m\u001b[0mx_i\u001b[0m\u001b[0;34m)\u001b[0m\u001b[0;34m\u001b[0m\u001b[0;34m\u001b[0m\u001b[0m\n\u001b[0;32m--> 237\u001b[0;31m         \u001b[0mfxi\u001b[0m \u001b[0;34m=\u001b[0m \u001b[0mself\u001b[0m\u001b[0;34m.\u001b[0m\u001b[0m_eval_first\u001b[0m\u001b[0;34m(\u001b[0m\u001b[0mf\u001b[0m\u001b[0;34m,\u001b[0m \u001b[0mx_i\u001b[0m\u001b[0;34m)\u001b[0m\u001b[0;34m\u001b[0m\u001b[0;34m\u001b[0m\u001b[0m\n\u001b[0m\u001b[1;32m    238\u001b[0m         \u001b[0mresults\u001b[0m \u001b[0;34m=\u001b[0m \u001b[0;34m[\u001b[0m\u001b[0mdiff\u001b[0m\u001b[0;34m(\u001b[0m\u001b[0mf\u001b[0m\u001b[0;34m,\u001b[0m \u001b[0mfxi\u001b[0m\u001b[0;34m,\u001b[0m \u001b[0mx_i\u001b[0m\u001b[0;34m,\u001b[0m \u001b[0mh\u001b[0m\u001b[0;34m)\u001b[0m \u001b[0;32mfor\u001b[0m \u001b[0mh\u001b[0m \u001b[0;32min\u001b[0m \u001b[0msteps\u001b[0m\u001b[0;34m]\u001b[0m\u001b[0;34m\u001b[0m\u001b[0;34m\u001b[0m\u001b[0m\n\u001b[1;32m    239\u001b[0m \u001b[0;34m\u001b[0m\u001b[0m\n",
            "\u001b[0;32m/usr/local/lib/python3.12/dist-packages/numdifftools/core.py\u001b[0m in \u001b[0;36m_eval_first\u001b[0;34m(self, f, x)\u001b[0m\n\u001b[1;32m    280\u001b[0m             \u001b[0;32mreturn\u001b[0m \u001b[0mf_x\u001b[0m\u001b[0;34m\u001b[0m\u001b[0;34m\u001b[0m\u001b[0m\n\u001b[1;32m    281\u001b[0m         \u001b[0;32mif\u001b[0m \u001b[0mself\u001b[0m\u001b[0;34m.\u001b[0m\u001b[0mfd_rule\u001b[0m\u001b[0;34m.\u001b[0m\u001b[0meval_first_condition\u001b[0m \u001b[0;32mor\u001b[0m \u001b[0mself\u001b[0m\u001b[0;34m.\u001b[0m\u001b[0mfull_output\u001b[0m\u001b[0;34m:\u001b[0m\u001b[0;34m\u001b[0m\u001b[0;34m\u001b[0m\u001b[0m\n\u001b[0;32m--> 282\u001b[0;31m             \u001b[0;32mreturn\u001b[0m \u001b[0mf\u001b[0m\u001b[0;34m(\u001b[0m\u001b[0mx\u001b[0m\u001b[0;34m)\u001b[0m\u001b[0;34m\u001b[0m\u001b[0;34m\u001b[0m\u001b[0m\n\u001b[0m\u001b[1;32m    283\u001b[0m         \u001b[0;32mreturn\u001b[0m \u001b[0;36m0.0\u001b[0m\u001b[0;34m\u001b[0m\u001b[0;34m\u001b[0m\u001b[0m\n\u001b[1;32m    284\u001b[0m \u001b[0;34m\u001b[0m\u001b[0m\n",
            "\u001b[0;32m/usr/local/lib/python3.12/dist-packages/numdifftools/core.py\u001b[0m in \u001b[0;36mexport_fun\u001b[0;34m(x)\u001b[0m\n\u001b[1;32m    255\u001b[0m \u001b[0;34m\u001b[0m\u001b[0m\n\u001b[1;32m    256\u001b[0m         \u001b[0;32mdef\u001b[0m \u001b[0mexport_fun\u001b[0m\u001b[0;34m(\u001b[0m\u001b[0mx\u001b[0m\u001b[0;34m)\u001b[0m\u001b[0;34m:\u001b[0m\u001b[0;34m\u001b[0m\u001b[0;34m\u001b[0m\u001b[0m\n\u001b[0;32m--> 257\u001b[0;31m             \u001b[0;32mreturn\u001b[0m \u001b[0mfun\u001b[0m\u001b[0;34m(\u001b[0m\u001b[0mx\u001b[0m\u001b[0;34m,\u001b[0m \u001b[0;34m*\u001b[0m\u001b[0margs\u001b[0m\u001b[0;34m,\u001b[0m \u001b[0;34m**\u001b[0m\u001b[0mkwds\u001b[0m\u001b[0;34m)\u001b[0m\u001b[0;34m\u001b[0m\u001b[0;34m\u001b[0m\u001b[0m\n\u001b[0m\u001b[1;32m    258\u001b[0m \u001b[0;34m\u001b[0m\u001b[0m\n\u001b[1;32m    259\u001b[0m         \u001b[0;32mreturn\u001b[0m \u001b[0mself\u001b[0m\u001b[0;34m.\u001b[0m\u001b[0mfd_rule\u001b[0m\u001b[0;34m.\u001b[0m\u001b[0mdiff\u001b[0m\u001b[0;34m,\u001b[0m \u001b[0mexport_fun\u001b[0m\u001b[0;34m\u001b[0m\u001b[0;34m\u001b[0m\u001b[0m\n",
            "\u001b[0;31mTypeError\u001b[0m: 'Add' object is not callable"
          ]
        }
      ]
    }
  ]
}