{
  "nbformat": 4,
  "nbformat_minor": 0,
  "metadata": {
    "colab": {
      "provenance": [],
      "include_colab_link": true
    },
    "kernelspec": {
      "name": "python3",
      "display_name": "Python 3"
    },
    "language_info": {
      "name": "python"
    }
  },
  "cells": [
    {
      "cell_type": "markdown",
      "metadata": {
        "id": "view-in-github",
        "colab_type": "text"
      },
      "source": [
        "<a href=\"https://colab.research.google.com/github/AlinaSalaieva/NM/blob/main/%D0%9B%D0%A03_%D0%A1%D0%B0%D0%BB%D0%B0%D1%94%D0%B2%D0%B0_12_%D0%92_ipynb%22.ipynb\" target=\"_parent\"><img src=\"https://colab.research.google.com/assets/colab-badge.svg\" alt=\"Open In Colab\"/></a>"
      ]
    },
    {
      "cell_type": "markdown",
      "source": [
        "1. Метод ділення навпіл."
      ],
      "metadata": {
        "id": "VgrW9zRY0dVt"
      }
    },
    {
      "cell_type": "code",
      "execution_count": 1,
      "metadata": {
        "colab": {
          "base_uri": "https://localhost:8080/"
        },
        "id": "iOTNXySVyeHy",
        "outputId": "b687d82d-f150-42c7-af5f-0695f382778c"
      },
      "outputs": [
        {
          "output_type": "stream",
          "name": "stdout",
          "text": [
            "Результати обчислень\n",
            "\n",
            "          a      F(a)         c      F(c)       b      F(b)\n",
            "0 -3.000000  0.977954 -2.000000  1.135204 -1.0000 -0.454649\n",
            "1 -2.000000  1.135204 -1.500000 -0.123480 -1.0000 -0.454649\n",
            "2 -2.000000  1.135204 -1.750000  0.405593 -1.5000 -0.123480\n",
            "3 -1.750000  0.405593 -1.625000  0.109040 -1.5000 -0.123480\n",
            "4 -1.625000  0.109040 -1.562500 -0.015587 -1.5000 -0.123480\n",
            "5 -1.625000  0.109040 -1.593750  0.044659 -1.5625 -0.015587\n",
            "6 -1.593750  0.044659 -1.578125  0.014015 -1.5625 -0.015587\n",
            "7 -1.578125  0.014015 -1.570312 -0.000917 -1.5625 -0.015587\n",
            "\n",
            "В точці с =  -1.5703125 , f(c) =  -0.0009171268569415665\n"
          ]
        }
      ],
      "source": [
        "import numpy as np\n",
        "import pandas as pd\n",
        "\n",
        "# Визначаємо функцію\n",
        "def f (x):\n",
        "    y = np.cos(x)*np.sin(x)*(x**2+x+1)\n",
        "    return y\n",
        "# Визначаємо границі відрізку\n",
        "a, b = -3, -1\n",
        "# Визначаємо точність розв'язку\n",
        "eps = 0.001\n",
        "# Поділяємо відрізок навпіл\n",
        "c = (a+b)/2\n",
        "# Зберігаємо результати обчислень\n",
        "data_A = [a]\n",
        "data_B = [b]\n",
        "data_C = [c]\n",
        "data_F_A = [f(a)]\n",
        "data_F_B = [f(b)]\n",
        "data_F_C = [f(c)]\n",
        "# Перевіряємо досягнення точності\n",
        "while np.abs(f(c)) > eps:\n",
        "    # Звужуємо відрізок\n",
        "    if np.sign(f(c)) == np.sign(f(a)):\n",
        "        a = c\n",
        "    else:\n",
        "        b = c\n",
        "    # Поділяємо відрізок навпіл\n",
        "    c = (a+b)/2\n",
        "    # Зберігаємо результати обчислень\n",
        "    data_A.append(a)\n",
        "    data_B.append(b)\n",
        "    data_C.append(c)\n",
        "    data_F_A.append(f(a))\n",
        "    data_F_B.append(f(b))\n",
        "    data_F_C.append(f(c))\n",
        "# Відображаємо результати обчислень\n",
        "print('Результати обчислень')\n",
        "print()\n",
        "data = pd.DataFrame({'a': data_A,\n",
        "                     'F(a)': data_F_A,\n",
        "                     'c': data_C,\n",
        "                     'F(c)': data_F_C,\n",
        "                     'b': data_B,\n",
        "                     'F(b)': data_F_B})\n",
        "print(data)\n",
        "# Відображаємо наближений корінь рівняння\n",
        "print()\n",
        "print('В точці с = ', c, ', f(c) = ', f(c))"
      ]
    },
    {
      "cell_type": "markdown",
      "source": [
        "![image.png](data:image/png;base64,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)"
      ],
      "metadata": {
        "id": "gocjqPcbAdv9"
      }
    },
    {
      "cell_type": "markdown",
      "source": [
        "2. Метод ділення навпіл"
      ],
      "metadata": {
        "id": "5hYa7ucn0PEN"
      }
    },
    {
      "cell_type": "code",
      "source": [
        "import numpy as np\n",
        "import scipy.optimize as sp\n",
        "\n",
        "def f(x):\n",
        "    y = np.cos(x)*np.sin(x)*(x**2+x+1)\n",
        "    return y\n",
        "\n",
        "a, b = -3, -1\n",
        "eps = 1.e-3\n",
        "\n",
        "x = sp.bisect(f, a, b,(),eps) #функція для метода\n",
        "\n",
        "print('The approximate solution x is:', x)\n",
        "print('And the value f(x) is:', f(x))"
      ],
      "metadata": {
        "colab": {
          "base_uri": "https://localhost:8080/"
        },
        "id": "ML3KEw5q0H1e",
        "outputId": "4f5d5db9-365c-4758-d72e-653d62c58579"
      },
      "execution_count": null,
      "outputs": [
        {
          "output_type": "stream",
          "name": "stdout",
          "text": [
            "The approximate solution x is: -1.5712890625\n",
            "And the value f(x) is: 0.0009350448126615916\n"
          ]
        }
      ]
    },
    {
      "cell_type": "markdown",
      "source": [
        "3. Метод хорд"
      ],
      "metadata": {
        "id": "sYf0IvR41ufd"
      }
    },
    {
      "cell_type": "code",
      "source": [
        "import numpy as np\n",
        "import pandas as pd\n",
        "# Визначаємо функцію\n",
        "def f(x):\n",
        "    y = np.cos(x)*np.sin(x)*(x**2+x+1)\n",
        "    return y\n",
        "# Визначаємо межі відрізку\n",
        "a, b = -3, -1\n",
        "# Визначаємо точність розв'язку\n",
        "eps = 0.001\n",
        "# Точка, де хорда перетинає вісь 0x\n",
        "c = (f(a)*b-a*f(b))/(f(a)-f(b))\n",
        "\n",
        "# Зберігаємо результати обчислень\n",
        "data_A = [a]\n",
        "data_B = [b]\n",
        "data_C = [c]\n",
        "data_F_A = [f(a)]\n",
        "data_F_B = [f(b)]\n",
        "data_F_C = [f(c)]\n",
        "# Перевіряємо досягнення точності\n",
        "while np.abs(f(c)) > eps:\n",
        "    # Звужуємо відрізок\n",
        "    if np.sign(f(c)) == np.sign(f(a)):\n",
        "        a = c\n",
        "    else:\n",
        "        b = c\n",
        "    # Точка, де хорда перетинає вісь 0x\n",
        "    c = (f(a)*b-a*f(b))/(f(a)-f(b))\n",
        "    # Зберігаємо результати обчислень\n",
        "    data_A.append(a)\n",
        "    data_B.append(b)\n",
        "    data_C.append(c)\n",
        "    data_F_A.append(f(a))\n",
        "    data_F_B.append(f(b))\n",
        "    data_F_C.append(f(c))\n",
        "# Відображаємо результати обчислень\n",
        "print('Результати обчислень')\n",
        "print()\n",
        "data = pd.DataFrame({'a': data_A, 'F(a)': data_F_A,\n",
        "                     'c': data_C, 'F(c)': data_F_C,\n",
        "                     'b': data_B, 'F(b)': data_F_B})\n",
        "print(data)\n",
        "# Відображаємо наближений корінь рівняння\n",
        "print()\n",
        "print('В точці с = ', c, ', f(c) = ', f(c))"
      ],
      "metadata": {
        "colab": {
          "base_uri": "https://localhost:8080/"
        },
        "id": "3p6i5xHK1y3l",
        "outputId": "c3cf4815-2750-4472-bec8-a6848856ce2b"
      },
      "execution_count": null,
      "outputs": [
        {
          "output_type": "stream",
          "name": "stdout",
          "text": [
            "Результати обчислень\n",
            "\n",
            "          a      F(a)         c      F(c)         b      F(b)\n",
            "0 -3.000000  0.977954 -1.634717  0.129889 -1.000000 -0.454649\n",
            "1 -1.634717  0.129889 -1.493678 -0.133455 -1.000000 -0.454649\n",
            "2 -1.634717  0.129889 -1.565152 -0.010636 -1.493678 -0.133455\n",
            "3 -1.634717  0.129889 -1.570418 -0.000718 -1.565152 -0.010636\n",
            "\n",
            "В точці с =  -1.5704175737258015 , f(c) =  -0.0007180376446871882\n"
          ]
        }
      ]
    },
    {
      "cell_type": "markdown",
      "source": [
        "4. Метод Ньютона (дотичних)"
      ],
      "metadata": {
        "id": "40blPBSK2Cdm"
      }
    },
    {
      "cell_type": "code",
      "source": [
        "import numpy as np\n",
        "import pandas as pd\n",
        "# Визначаємо функцію\n",
        "def f(x):\n",
        "    y = np.cos(x)*np.sin(x)*(x**2+x+1)\n",
        "    return y\n",
        "\n",
        "# Визначаємо межі відрізку\n",
        "a, b = -3, -1\n",
        "\n",
        "# Визначаємо першу похідну\n",
        "def df(x):\n",
        "    y1 = -(x**2+x+1)*(np.sin(x))**2\n",
        "    y2 = (x**2+x+1)*(np.cos(x))**2\n",
        "    y3 = (2*x+1)*np.sin(x)*np.cos(x)\n",
        "    y = y1+y2+y3\n",
        "    return y\n",
        "# Визначаємо початкову точку\n",
        "c = -1.4\n",
        "# Визначаємо точність розв'язку\n",
        "eps = 0.001\n",
        "\n",
        "# Зберігаємо результати обчислень\n",
        "data_C = [c]\n",
        "data_F_C = [f(c)]\n",
        "\n",
        "# Перевіряємо досягнення точності\n",
        "while np.abs(f(c)) > eps:\n",
        "    # Точка, де дотична перетинає вісь 0x\n",
        "    c -= f(c)/df(c)\n",
        "    # Зберігаємо результати обчислень\n",
        "    data_C.append(c)\n",
        "    data_F_C.append(f(c))\n",
        "# Відображаємо результати обчислень\n",
        "print('Результати обчислень')\n",
        "print()\n",
        "data = pd.DataFrame({'c': data_C, 'F(c)': data_F_C})\n",
        "print(data)\n",
        "# Відображаємо наближений корінь рівняння\n",
        "print()\n",
        "print('В точці с = ', c, ', f(c) = ', f(c))"
      ],
      "metadata": {
        "colab": {
          "base_uri": "https://localhost:8080/"
        },
        "id": "WeGQjbjW2HDz",
        "outputId": "adadde01-cef9-405a-b3a7-4595f4dc0046"
      },
      "execution_count": null,
      "outputs": [
        {
          "output_type": "stream",
          "name": "stdout",
          "text": [
            "Результати обчислень\n",
            "\n",
            "          c      F(c)\n",
            "0 -1.400000 -0.261291\n",
            "1 -1.623636  0.106144\n",
            "2 -1.573564  0.005266\n",
            "3 -1.570805  0.000016\n",
            "\n",
            "В точці с =  -1.5708049170979717 , f(c) =  1.6292567852764437e-05\n"
          ]
        }
      ]
    },
    {
      "cell_type": "markdown",
      "source": [
        "5. Метод Ньютона (дотичних)"
      ],
      "metadata": {
        "id": "qjI38bTp0xCo"
      }
    },
    {
      "cell_type": "code",
      "source": [
        "import numpy as np\n",
        "import scipy.optimize as sp\n",
        "\n",
        "def f(x):\n",
        "    y = np.cos(x)*np.sin(x)*(x**2+x+1)\n",
        "    return y\n",
        "\n",
        "def df(x):# Обчислення похідної\n",
        "    y1 = -(x**2+x+1)*(np.sin(x))**2\n",
        "    y2 = (x**2+x+1)*(np.cos(x))**2\n",
        "    y3 = (2*x+1)*np.sin(x)*np.cos(x)\n",
        "    y = y1+y2+y3\n",
        "    return y\n",
        "\n",
        "x0, x1, x2, x3, x4 = -1.4, 1.4, -3.2, 3.2, 0.5\n",
        "\n",
        "x_0 = sp.newton(f, x0, df, tol=1.e-3, maxiter=50)\n",
        "x_1 = sp.newton(f, x1, df, tol=1.e-3, maxiter=50)\n",
        "\n",
        "x_2 = sp.newton(f, x2, df, tol=1.e-3, maxiter=50)\n",
        "x_3 = sp.newton(f, x3, df, tol=1.e-3, maxiter=50)\n",
        "\n",
        "x_4 = sp.newton(f, x4, df, tol=1.e-3, maxiter=50)\n"
      ],
      "metadata": {
        "id": "AonZxq_H0m6-"
      },
      "execution_count": null,
      "outputs": []
    },
    {
      "cell_type": "code",
      "source": [
        "print('The approximate solution x_0 is:', x_0)\n",
        "print('And the value f(x_0) is:', f(x_0))\n",
        "\n",
        "print('The approximate solution x_1 is:', x_1)\n",
        "print('And the value f(x_0) is:', f(x_1))\n",
        "\n",
        "print('The approximate solution x_2 is:', x_2)\n",
        "print('And the value f(x_0) is:', f(x_2))\n",
        "\n",
        "print('The approximate solution x_3 is:', x_3)\n",
        "print('And the value f(x_0) is:', f(x_3))\n",
        "\n",
        "print('The approximate solution x_4 is:', x_4)\n",
        "print('And the value f(x_0) is:', f(x_4))"
      ],
      "metadata": {
        "colab": {
          "base_uri": "https://localhost:8080/"
        },
        "id": "Zz1InQ94Bd_C",
        "outputId": "6ba59233-5c6f-419b-d5b5-1c56455c65bb"
      },
      "execution_count": null,
      "outputs": [
        {
          "output_type": "stream",
          "name": "stdout",
          "text": [
            "The approximate solution x_0 is: -1.5707963268782201\n",
            "And the value f(x_0) is: 1.5803176499052036e-10\n",
            "The approximate solution x_1 is: 1.5707963267958693\n",
            "And the value f(x_0) is: -4.9007361645997675e-12\n",
            "The approximate solution x_2 is: -3.1415926535944303\n",
            "And the value f(x_0) is: -3.5835231468970716e-11\n",
            "The approximate solution x_3 is: 3.1415926535904006\n",
            "And the value f(x_0) is: 8.510283038202437e-12\n",
            "The approximate solution x_4 is: 2.127875903690929e-09\n",
            "And the value f(x_0) is: 2.127875908218785e-09\n"
          ]
        }
      ]
    },
    {
      "cell_type": "markdown",
      "source": [
        "![image.png](data:image/png;base64,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)"
      ],
      "metadata": {
        "id": "RCkmbBZoAlLf"
      }
    },
    {
      "cell_type": "markdown",
      "source": [
        " # Знаходження коренів рівняння за допомогою бібліотеки SymPy"
      ],
      "metadata": {
        "id": "pvK9N9TH1QD-"
      }
    },
    {
      "cell_type": "code",
      "source": [
        "import sympy as sym\n",
        "\n",
        "x = sym.Symbol('x')\n",
        "\n",
        "y = sym.cos(x)*sym.sin(x)*(x**2+x+1)\n",
        "\n",
        "s = sym.solve(y, x)\n",
        "\n",
        "print(s)"
      ],
      "metadata": {
        "colab": {
          "base_uri": "https://localhost:8080/"
        },
        "id": "PuAp1WCr08qt",
        "outputId": "92db749b-7271-44f8-addf-4abd383ebd0a"
      },
      "execution_count": null,
      "outputs": [
        {
          "output_type": "stream",
          "name": "stdout",
          "text": [
            "[0, pi/2, pi, 3*pi/2, -1/2 - sqrt(3)*I/2, -1/2 + sqrt(3)*I/2]\n"
          ]
        }
      ]
    },
    {
      "cell_type": "code",
      "source": [
        "import sympy as sym\n",
        "\n",
        "x, a, b, c = sym.symbols('x, a, b, c')\n",
        "\n",
        "y = a * x**2 + b * x + c\n",
        "\n",
        "s = sym.solve(y, x)\n",
        "\n",
        "print(s)"
      ],
      "metadata": {
        "colab": {
          "base_uri": "https://localhost:8080/"
        },
        "id": "Y0d-uHtp1c7r",
        "outputId": "c884cd8a-85f1-44de-e161-ae5a91a82ff0"
      },
      "execution_count": null,
      "outputs": [
        {
          "output_type": "stream",
          "name": "stdout",
          "text": [
            "[(-b - sqrt(-4*a*c + b**2))/(2*a), (-b + sqrt(-4*a*c + b**2))/(2*a)]\n"
          ]
        }
      ]
    },
    {
      "cell_type": "markdown",
      "source": [],
      "metadata": {
        "id": "mk1oBvYj1GC2"
      }
    },
    {
      "cell_type": "code",
      "source": [
        "!pip install numdifftools"
      ],
      "metadata": {
        "colab": {
          "base_uri": "https://localhost:8080/"
        },
        "id": "yiLJNuM3Cq0-",
        "outputId": "c2b2ac1e-6c59-4cd3-e09a-9102f1416b31"
      },
      "execution_count": 2,
      "outputs": [
        {
          "output_type": "stream",
          "name": "stdout",
          "text": [
            "Collecting numdifftools\n",
            "  Downloading numdifftools-0.9.41-py2.py3-none-any.whl.metadata (39 kB)\n",
            "Requirement already satisfied: numpy>=1.9 in /usr/local/lib/python3.12/dist-packages (from numdifftools) (2.0.2)\n",
            "Requirement already satisfied: scipy>=0.8 in /usr/local/lib/python3.12/dist-packages (from numdifftools) (1.16.2)\n",
            "Downloading numdifftools-0.9.41-py2.py3-none-any.whl (100 kB)\n",
            "\u001b[?25l   \u001b[90m━━━━━━━━━━━━━━━━━━━━━━━━━━━━━━━━━━━━━━━━\u001b[0m \u001b[32m0.0/100.2 kB\u001b[0m \u001b[31m?\u001b[0m eta \u001b[36m-:--:--\u001b[0m\r\u001b[2K   \u001b[90m━━━━━━━━━━━━━━━━━━━━━━━━━━━━━━━━━━━━━━━━\u001b[0m \u001b[32m100.2/100.2 kB\u001b[0m \u001b[31m5.3 MB/s\u001b[0m eta \u001b[36m0:00:00\u001b[0m\n",
            "\u001b[?25hInstalling collected packages: numdifftools\n",
            "Successfully installed numdifftools-0.9.41\n"
          ]
        }
      ]
    },
    {
      "cell_type": "code",
      "source": [
        "#Лабораторна робота 2\n",
        "#Відокремлення коренів\n",
        "import numpy as np\n",
        "import numdifftools as nd\n",
        "\n",
        "def f(x):\n",
        "    return 9*x**4 + 12*x**3 - 36*x**2 - 2\n",
        "\n",
        "\n",
        "def find_segments(): #відокремлюємо корені\n",
        "    search_range = np.arange(-5, 5, 1)\n",
        "\n",
        "    a = None\n",
        "    previous_x = None\n",
        "    current_x  = None\n",
        "    segments = []\n",
        "\n",
        "    for x in search_range:\n",
        "        x = round(x, 4)\n",
        "        current_x = f(x)\n",
        "        if previous_x != None and previous_x * current_x < 0:\n",
        "            segments.append((a, x))\n",
        "        a = x\n",
        "        previous_x = current_x\n",
        "    return segments\n",
        "\n",
        "segments = find_segments()\n",
        "for a, b in segments:\n",
        "    print(f'Found segment:  [{a}, {b}]')\n"
      ],
      "metadata": {
        "colab": {
          "base_uri": "https://localhost:8080/"
        },
        "id": "L-9dn4npCso-",
        "outputId": "d65a7f87-c6a5-4af8-d232-10ad858361fc"
      },
      "execution_count": 3,
      "outputs": [
        {
          "output_type": "stream",
          "name": "stdout",
          "text": [
            "Found segment:  [-3, -2]\n",
            "Found segment:  [1, 2]\n"
          ]
        }
      ]
    },
    {
      "cell_type": "code",
      "source": [
        "import numpy as np\n",
        "import matplotlib.pyplot as plt\n",
        "\n",
        "# Визначення функції\n",
        "def f(x):\n",
        "    return 9*x**4 + 12*x**3 - 36*x**2 - 2\n",
        "\n",
        "# Генерація значень x\n",
        "x = np.linspace(-4, 4, 100)\n",
        "\n",
        "# Генерація значень y\n",
        "y = f(x)\n",
        "\n",
        "# Побудова графіка\n",
        "plt.figure(figsize=(8, 6))\n",
        "plt.plot(x, y, label='9*x**4 + 12*x**3 - 36*x**2 - 2', color='blue')\n",
        "plt.title('Графік функції 9*x**4 + 12*x**3 - 36*x**2 - 2')\n",
        "plt.xlabel('x')\n",
        "plt.ylabel('f(x)')\n",
        "\n",
        "# Додавання осей з стрілками\n",
        "plt.axhline(0, color='black', linewidth=0.5)\n",
        "plt.axvline(0, color='black', linewidth=0.5)\n",
        "\n",
        "plt.text(2.05, -4, 'x', ha='center', va='center')\n",
        "plt.text(-0.3, 190, 'y', ha='center', va='center')\n",
        "\n",
        "plt.grid(True)\n",
        "plt.legend()\n",
        "plt.show()\n"
      ],
      "metadata": {
        "colab": {
          "base_uri": "https://localhost:8080/",
          "height": 564
        },
        "id": "7zUI3d1xZXar",
        "outputId": "e568aa7d-a4db-40e7-8613-5309e0cfb6b6"
      },
      "execution_count": 4,
      "outputs": [
        {
          "output_type": "display_data",
          "data": {
            "text/plain": [
              "<Figure size 800x600 with 1 Axes>"
            ],
            "image/png": "[encoded data removed]"
          },
          "metadata": {}
        }
      ]
    },
    {
      "cell_type": "markdown",
      "source": [
        "![image.png](data:image/png;base64,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)"
      ],
      "metadata": {
        "id": "anfhEWBU_6rf"
      }
    },
    {
      "cell_type": "code",
      "source": [
        "#Лабораторна робота. Метод половинного ділення, хорд\n",
        "\n",
        "def rec(a, b, eps):  # метод половинного ділення\n",
        "    while (np.abs(a - b) > eps):\n",
        "        if f(a) * f((a + b) / 2) < 0:\n",
        "            b = (a + b) / 2\n",
        "        else:\n",
        "            a = (a + b) / 2\n",
        "        x = (a + b) / 2\n",
        "\n",
        "    print('x= ', round(x, 5), '  -   Half division method')\n"
      ],
      "metadata": {
        "id": "BgjK94O9Cfxe"
      },
      "execution_count": 5,
      "outputs": []
    },
    {
      "cell_type": "code",
      "source": [
        "def hord(a, b, eps):  # метод хорд\n",
        "    derivative_f = nd.Derivative(f, n=2)\n",
        "    if f(a) * derivative_f(a) > 0:\n",
        "        x0 = a\n",
        "        xi = b\n",
        "    else:\n",
        "        x0 = b\n",
        "        xi = a\n",
        "    xi_1 = xi - (xi - x0) * f(xi) / (f(xi) - f(x0))\n",
        "    while (np.abs(xi_1 - xi) > eps):\n",
        "        xi = xi_1\n",
        "        xi_1 = xi - (xi - x0) * f(xi) / (f(xi) - f(x0))\n",
        "    print('x= ', round(xi_1, 5), '  -   Chord method')\n"
      ],
      "metadata": {
        "id": "Sz_KWVf7D2tL"
      },
      "execution_count": 6,
      "outputs": []
    },
    {
      "cell_type": "code",
      "source": [
        "if __name__ == \"__main__\":\n",
        "    a1, b1 = -3, -2\n",
        "    a2, b2 = 1, 2\n",
        "    eps = 0.001\n",
        "    print(\"Розв'язки на відрізку [-3,-2]\")\n",
        "    rec(a1, b1, eps)\n",
        "    hord(a1, b1, eps)\n",
        "    print(\"\\n Розв'язки на відрізку [1,2]\")\n",
        "    rec(a2, b2, eps)\n",
        "    hord(a2, b2, eps)"
      ],
      "metadata": {
        "id": "upx7R4yoFZj_",
        "outputId": "1436fb34-7b7f-41cc-80ae-0e4fc19d4b08",
        "colab": {
          "base_uri": "https://localhost:8080/"
        }
      },
      "execution_count": 7,
      "outputs": [
        {
          "output_type": "stream",
          "name": "stdout",
          "text": [
            "Розв'язки на відрізку [-3,-2]\n",
            "x=  -2.78174   -   Half division method\n",
            "x=  -2.7816   -   Chord method\n",
            "\n",
            " Розв'язки на відрізку [1,2]\n",
            "x=  1.46631   -   Half division method\n",
            "x=  1.46527   -   Chord method\n"
          ]
        }
      ]
    },
    {
      "cell_type": "code",
      "source": [
        "#Лабораторна робота 3. Метод Ньютона (дотичних). Комбінований метод\n",
        "\n",
        "import numpy as np\n",
        "import numdifftools as nd\n",
        "\n",
        "def f(x):\n",
        "    return 9*x**4 + 12*x**3 - 36*x**2 - 2\n",
        "\n",
        "def nuton(a, b, eps, f):\n",
        "    df1 = nd.Derivative(f, n=1)   # створюємо callable для 1-ї похідної\n",
        "    df2 = nd.Derivative(f, n=2)   # і для 2-ї\n",
        "    xi = b if f(b) * df2(b) > 0 else a\n",
        "\n",
        "    xi_1 = xi - f(xi) / df1(xi)\n",
        "    while np.abs(xi_1 - xi) > eps:\n",
        "        xi = xi_1\n",
        "        d = df1(xi)\n",
        "        if d == 0:\n",
        "            raise ZeroDivisionError(\"Похідна дорівнює нулю — зупинка.\")\n",
        "        xi_1 = xi - f(xi) / d\n",
        "\n",
        "    print('Метод Ньютона, x =', round(float(xi_1), 4))"
      ],
      "metadata": {
        "id": "t-FUcU4Fj0-f"
      },
      "execution_count": 8,
      "outputs": []
    },
    {
      "cell_type": "code",
      "source": [
        "def komb(a, b, eps, f):\n",
        "    df2 = nd.Derivative(f, n=2)(a)\n",
        "    if f(a) * df2 > 0:\n",
        "        a0, b0 = a, b\n",
        "    else:\n",
        "        a0, b0 = b, a\n",
        "    ai, bi = a0, b0\n",
        "\n",
        "    while np.abs(ai - bi) > eps:\n",
        "        ai_1 = ai - f(ai) * (bi - ai) / (f(bi) - f(ai))\n",
        "        bi_1 = bi - f(bi) / nd.Derivative(f, n=1)(bi)\n",
        "        ai, bi = ai_1, bi_1\n",
        "\n",
        "    x = (ai_1 + bi_1) / 2\n",
        "\n",
        "    print('Комбінований метод, x = ', x.round(4))\n"
      ],
      "metadata": {
        "id": "M2T4FA4ifyy_"
      },
      "execution_count": 9,
      "outputs": []
    },
    {
      "cell_type": "code",
      "source": [
        "if __name__ == \"__main__\":\n",
        "    a1, b1 = -3, -2\n",
        "    a2, b2 = 1, 2\n",
        "    eps = 0.001\n",
        "\n",
        "    print(\"Розв'язання на відрізку [-3, -2]\")\n",
        "    nuton(a1, b1, eps, f)\n",
        "    komb(a1, b1, eps, f)\n",
        "    print(\"\\n Розв'язання на відрізку [1, 2]\")\n",
        "    nuton(a2, b2, eps, f)\n",
        "    komb(a2, b2, eps, f)"
      ],
      "metadata": {
        "colab": {
          "base_uri": "https://localhost:8080/"
        },
        "id": "zrxTpvysf0zN",
        "outputId": "6dbf898c-5e44-4055-f92e-67d6581b8c60"
      },
      "execution_count": 10,
      "outputs": [
        {
          "output_type": "stream",
          "name": "stdout",
          "text": [
            "Розв'язання на відрізку [-3, -2]\n",
            "Метод Ньютона, x = -2.7817\n",
            "Комбінований метод, x =  -2.7817\n",
            "\n",
            " Розв'язання на відрізку [1, 2]\n",
            "Метод Ньютона, x = 1.4659\n",
            "Комбінований метод, x =  nan\n"
          ]
        },
        {
          "output_type": "stream",
          "name": "stderr",
          "text": [
            "/tmp/ipython-input-3410986092.py:11: RuntimeWarning: divide by zero encountered in divide\n",
            "  bi_1 = bi - f(bi) / nd.Derivative(f, n=1)(bi)\n",
            "/tmp/ipython-input-3312186281.py:7: RuntimeWarning: invalid value encountered in scalar subtract\n",
            "  return 9*x**4 + 12*x**3 - 36*x**2 - 2\n",
            "/usr/local/lib/python3.12/dist-packages/numpy/lib/_nanfunctions_impl.py:1634: RuntimeWarning: All-NaN slice encountered\n",
            "  return fnb._ureduce(a,\n",
            "/usr/local/lib/python3.12/dist-packages/numdifftools/limits.py:150: UserWarning: All-NaN slice encountered\n",
            "  warnings.warn(str(msg))\n"
          ]
        }
      ]
    },
    {
      "cell_type": "markdown",
      "source": [
        "Завдання 3. Лабораторна робота 3\n",
        "\n",
        "Тема: Відокремлення дійсних коренів рівнянь та їх уточнення методом простої ітерації."
      ],
      "metadata": {
        "id": "370aMnuwjPeK"
      }
    },
    {
      "cell_type": "code",
      "source": [
        "!pip install numdifftools"
      ],
      "metadata": {
        "colab": {
          "base_uri": "https://localhost:8080/"
        },
        "id": "Rc37HrNui3h5",
        "outputId": "bf4d8248-4fe9-4071-d2cb-66e5473ef670"
      },
      "execution_count": 1,
      "outputs": [
        {
          "output_type": "stream",
          "name": "stdout",
          "text": [
            "Collecting numdifftools\n",
            "  Downloading numdifftools-0.9.41-py2.py3-none-any.whl.metadata (39 kB)\n",
            "Requirement already satisfied: numpy>=1.9 in /usr/local/lib/python3.12/dist-packages (from numdifftools) (2.0.2)\n",
            "Requirement already satisfied: scipy>=0.8 in /usr/local/lib/python3.12/dist-packages (from numdifftools) (1.16.2)\n",
            "Downloading numdifftools-0.9.41-py2.py3-none-any.whl (100 kB)\n",
            "\u001b[?25l   \u001b[90m━━━━━━━━━━━━━━━━━━━━━━━━━━━━━━━━━━━━━━━━\u001b[0m \u001b[32m0.0/100.2 kB\u001b[0m \u001b[31m?\u001b[0m eta \u001b[36m-:--:--\u001b[0m\r\u001b[2K   \u001b[90m━━━━━━━━━━━━━━━━━━━━━━━━━━━━━━━━━━━━━━━━\u001b[0m \u001b[32m100.2/100.2 kB\u001b[0m \u001b[31m4.1 MB/s\u001b[0m eta \u001b[36m0:00:00\u001b[0m\n",
            "\u001b[?25hInstalling collected packages: numdifftools\n",
            "Successfully installed numdifftools-0.9.41\n"
          ]
        }
      ]
    },
    {
      "cell_type": "code",
      "source": [
        "import numdifftools as nd"
      ],
      "metadata": {
        "id": "mCRRGRFlizK1"
      },
      "execution_count": 2,
      "outputs": []
    },
    {
      "cell_type": "markdown",
      "source": [
        "![image.png](data:image/png;base64,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)"
      ],
      "metadata": {
        "id": "zlhQXCqsB3N7"
      }
    },
    {
      "cell_type": "markdown",
      "source": [
        "Визначаємо, що корінь належить відрізку [1,1.5]"
      ],
      "metadata": {
        "id": "49S6DfpDqrQZ"
      }
    },
    {
      "cell_type": "code",
      "source": [
        "def f(x: float):\n",
        "    return x**3-3*x**2+6*x-5\n",
        "\n",
        "def fprime(x: float):\n",
        "    return nd.Derivative(f, n=1)\n",
        "\n",
        "def phi(x: float):\n",
        "    # c = -0.3 (забезпечує |phi'(x)|<1 на [1,1.5])\n",
        "    c = -0.3\n",
        "    return x + c * f(x)\n",
        "\n",
        "def iterate_fixed_point(x0: float, iters: int = 5):\n",
        "    xs = [x0]\n",
        "    x = x0\n",
        "    for _ in range(iters):\n",
        "        x = phi(x)\n",
        "        xs.append(x)\n",
        "    return xs\n",
        "\n",
        "def error_bound(x_last: float) -> float:\n",
        "    # μ = min_{x∈[1,1.5]} |f'(x)| = 3\n",
        "    mu = 3.0\n",
        "    return abs(f(x_last)) / mu\n",
        "\n"
      ],
      "metadata": {
        "id": "gt8HxS1AiM0Y"
      },
      "execution_count": 3,
      "outputs": []
    },
    {
      "cell_type": "code",
      "source": [
        "def main():\n",
        "    x0 = -1.0 # нульове наближення має належати відрізку [1, 1.5]\n",
        "\n",
        "    iters = 5\n",
        "    xs = iterate_fixed_point(x0, iters)\n",
        "\n",
        "    print(\"Fixed-point iteration for f(x) = x**3-3*x**2+6*x-5 with phi(x) = x - 0.3*f(x)\")\n",
        "    print(f\"Interval: [1, 1.5], start x0 = {x0}\")\n",
        "\n",
        "    for i, xi in enumerate(xs):\n",
        "        if i == 0:\n",
        "            print(f\"x_{i} = {xi:.10f}\")\n",
        "        else:\n",
        "            print(f\"x_{i} = phi(x_{i-1}) = {xi:.10f}\")\n",
        "    bound = error_bound(xs[-1])\n",
        "    print(\"\\nError bound after 5 iterations:  |ξ - x5| ≤ |f(x5)| / μ\")\n",
        "    print(f\"f(x5) = {f(xs[-1]):.10f},  μ = 3  ⇒  |ξ - x5| ≤ {bound:.10f}\")\n",
        "    return xs[-1], bound\n",
        "\n",
        "if __name__ == \"__main__\":\n",
        "    root_approx, bound = main()"
      ],
      "metadata": {
        "colab": {
          "base_uri": "https://localhost:8080/"
        },
        "id": "NcUIwAOAimLR",
        "outputId": "4abfd857-a80b-4e2a-935a-d4255473241c"
      },
      "execution_count": 4,
      "outputs": [
        {
          "output_type": "stream",
          "name": "stdout",
          "text": [
            "Fixed-point iteration for f(x) = x**3-3*x**2+6*x-5 with phi(x) = x - 0.3*f(x)\n",
            "Interval: [1, 1.5], start x0 = -1.0\n",
            "x_0 = -1.0000000000\n",
            "x_1 = phi(x_0) = 3.5000000000\n",
            "x_2 = phi(x_1) = -3.1375000000\n",
            "x_3 = phi(x_2) = 22.1350923828\n",
            "x_4 = phi(x_3) = -2828.8503212196\n",
            "x_5 = phi(x_4) = 6798476989.2306795120\n",
            "\n",
            "Error bound after 5 iterations:  |ξ - x5| ≤ |f(x5)| / μ\n",
            "f(x5) = 314220775122950036811616878592.0000000000,  μ = 3  ⇒  |ξ - x5| ≤ 104740258374316673073143611392.0000000000\n"
          ]
        }
      ]
    },
    {
      "cell_type": "markdown",
      "source": [
        "Спрощений варіант коду\n"
      ],
      "metadata": {
        "id": "_gkwLHTNkDwS"
      }
    },
    {
      "cell_type": "code",
      "source": [
        "# Рівняння: f(x) = x**3-3*x**2+6*x-5 = 0\n",
        "# Ітераційна функція: φ(x) = x - 0.3 * f(x)  (c = -0.3)\n",
        "# Початкове наближення: x0 = -1\n",
        "# Кількість ітерацій: 5\n",
        "# Оцінка похибки: |ξ - x5| ≤ |f(x5)| / μ, де μ = min_{[1,1.5]} |f'(x)| = 3\n",
        "\n",
        "def f(x):\n",
        "    return x**3-3*x**2+6*x-5\n",
        "\n",
        "def phi(x):\n",
        "    return x - 0.3 * f(x)   # c = -0.3\n",
        "\n",
        "def fixed_point(x0=-1.0, iters=5):\n",
        "    xs = [x0]\n",
        "    for _ in range(iters):\n",
        "        xs.append(phi(xs[-1]))\n",
        "    return xs\n",
        "\n",
        "# Запуск і вивід результатів\n",
        "xs = fixed_point(-1.0, 5)\n",
        "\n",
        "for i, xi in enumerate(xs):\n",
        "    print(f\"x_{i} = {xi:.10f}\")\n",
        "\n",
        "# Похибка методу простої ітерації після 5-ї ітерації\n",
        "mu = 3.0                      # μ = min_{[1,1.5]} |3x^2 - 6x + 6| = 3\n",
        "err_bound = abs(f(xs[-1]))/mu\n",
        "print(f\"\\nОцінка похибки: |ξ - x5| ≤ {err_bound:.10f}\")"
      ],
      "metadata": {
        "colab": {
          "base_uri": "https://localhost:8080/"
        },
        "id": "womZO91vj9vN",
        "outputId": "ac9b7bd0-f965-407b-8b4c-2d4cec467c25"
      },
      "execution_count": 5,
      "outputs": [
        {
          "output_type": "stream",
          "name": "stdout",
          "text": [
            "x_0 = -1.0000000000\n",
            "x_1 = 3.5000000000\n",
            "x_2 = -3.1375000000\n",
            "x_3 = 22.1350923828\n",
            "x_4 = -2828.8503212196\n",
            "x_5 = 6798476989.2306795120\n",
            "\n",
            "Оцінка похибки: |ξ - x5| ≤ 104740258374316673073143611392.0000000000\n"
          ]
        }
      ]
    }
  ]
}